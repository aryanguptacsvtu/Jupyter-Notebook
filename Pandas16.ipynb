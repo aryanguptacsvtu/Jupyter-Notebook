{
 "cells": [
  {
   "cell_type": "code",
   "execution_count": 1,
   "metadata": {},
   "outputs": [],
   "source": [
    "import pandas as pd"
   ]
  },
  {
   "cell_type": "code",
   "execution_count": 2,
   "metadata": {},
   "outputs": [
    {
     "data": {
      "text/html": [
       "<div>\n",
       "<style scoped>\n",
       "    .dataframe tbody tr th:only-of-type {\n",
       "        vertical-align: middle;\n",
       "    }\n",
       "\n",
       "    .dataframe tbody tr th {\n",
       "        vertical-align: top;\n",
       "    }\n",
       "\n",
       "    .dataframe thead th {\n",
       "        text-align: right;\n",
       "    }\n",
       "</style>\n",
       "<table border=\"1\" class=\"dataframe\">\n",
       "  <thead>\n",
       "    <tr style=\"text-align: right;\">\n",
       "      <th></th>\n",
       "      <th>name</th>\n",
       "      <th>grade</th>\n",
       "      <th>age</th>\n",
       "      <th>group</th>\n",
       "      <th>suspended</th>\n",
       "    </tr>\n",
       "  </thead>\n",
       "  <tbody>\n",
       "    <tr>\n",
       "      <th>0</th>\n",
       "      <td>Michael Smith</td>\n",
       "      <td>[A, A]</td>\n",
       "      <td>19</td>\n",
       "      <td>class 1</td>\n",
       "      <td>True</td>\n",
       "    </tr>\n",
       "    <tr>\n",
       "      <th>1</th>\n",
       "      <td>Ana Kors</td>\n",
       "      <td>[C]</td>\n",
       "      <td>19</td>\n",
       "      <td>class 2</td>\n",
       "      <td>False</td>\n",
       "    </tr>\n",
       "    <tr>\n",
       "      <th>2</th>\n",
       "      <td>Sean Bill</td>\n",
       "      <td>[A, C, B]</td>\n",
       "      <td>17</td>\n",
       "      <td>class 2</td>\n",
       "      <td>True</td>\n",
       "    </tr>\n",
       "    <tr>\n",
       "      <th>3</th>\n",
       "      <td>Carl Jonson</td>\n",
       "      <td>[]</td>\n",
       "      <td>18</td>\n",
       "      <td>class 1</td>\n",
       "      <td>False</td>\n",
       "    </tr>\n",
       "    <tr>\n",
       "      <th>4</th>\n",
       "      <td>Bob Evan</td>\n",
       "      <td>[F]</td>\n",
       "      <td>-</td>\n",
       "      <td>class 2</td>\n",
       "      <td>True</td>\n",
       "    </tr>\n",
       "  </tbody>\n",
       "</table>\n",
       "</div>"
      ],
      "text/plain": [
       "            name      grade age    group  suspended\n",
       "0  Michael Smith     [A, A]  19  class 1       True\n",
       "1       Ana Kors        [C]  19  class 2      False\n",
       "2      Sean Bill  [A, C, B]  17  class 2       True\n",
       "3    Carl Jonson         []  18  class 1      False\n",
       "4       Bob Evan        [F]   -  class 2       True"
      ]
     },
     "execution_count": 2,
     "metadata": {},
     "output_type": "execute_result"
    }
   ],
   "source": [
    "a = {'name': ['Michael Smith', 'Ana Kors', 'Sean Bill', 'Carl Jonson', 'Bob Evan'],\n",
    "    'grade': [['A', 'A'], ['C'], ['A', 'C', 'B'], [], ['F']],\n",
    "    'age': ['19', '19', '17', '18', '-'],\n",
    "    'group': ['class 1', 'class 2', 'class 2', 'class 1', 'class 2'],\n",
    "    'suspended': [True, False, True, False, True]\n",
    "}\n",
    "df = pd.DataFrame(a)\n",
    "df"
   ]
  },
  {
   "cell_type": "code",
   "execution_count": 3,
   "metadata": {},
   "outputs": [
    {
     "name": "stdout",
     "output_type": "stream",
     "text": [
      "0    MICHAEL SMITH\n",
      "1         ANA KORS\n",
      "2        SEAN BILL\n",
      "3      CARL JONSON\n",
      "4         BOB EVAN\n",
      "Name: name, dtype: object\n",
      "\n",
      "\n",
      "0    michael smith\n",
      "1         ana kors\n",
      "2        sean bill\n",
      "3      carl jonson\n",
      "4         bob evan\n",
      "Name: name, dtype: object\n"
     ]
    }
   ],
   "source": [
    "print(df.name.str.upper())\n",
    "print('\\n')\n",
    "print(df.name.str.lower())"
   ]
  },
  {
   "cell_type": "code",
   "execution_count": 4,
   "metadata": {},
   "outputs": [
    {
     "name": "stdout",
     "output_type": "stream",
     "text": [
      "0    False\n",
      "1    False\n",
      "2    False\n",
      "3    False\n",
      "4    False\n",
      "Name: name, dtype: bool \n",
      "\n",
      "0    False\n",
      "1    False\n",
      "2    False\n",
      "3    False\n",
      "4    False\n",
      "Name: name, dtype: bool\n"
     ]
    }
   ],
   "source": [
    "print(df.name.str.isupper(),'\\n')\n",
    "print(df.name.str.islower())"
   ]
  },
  {
   "cell_type": "code",
   "execution_count": 5,
   "metadata": {},
   "outputs": [
    {
     "name": "stdout",
     "output_type": "stream",
     "text": [
      "0     True\n",
      "1     True\n",
      "2     True\n",
      "3     True\n",
      "4    False\n",
      "Name: age, dtype: bool \n",
      "\n",
      "0    13\n",
      "1     8\n",
      "2     9\n",
      "3    11\n",
      "4     8\n",
      "Name: name, dtype: int64 \n",
      "\n",
      "0    [Michael, Smith]\n",
      "1         [Ana, Kors]\n",
      "2        [Sean, Bill]\n",
      "3      [Carl, Jonson]\n",
      "4         [Bob, Evan]\n",
      "Name: name, dtype: object\n"
     ]
    }
   ],
   "source": [
    "print(df.age.str.isnumeric(),'\\n')\n",
    "print(df.name.str.len(),'\\n')\n",
    "print(df.name.str.split(\" \"))"
   ]
  },
  {
   "cell_type": "code",
   "execution_count": 6,
   "metadata": {},
   "outputs": [
    {
     "name": "stdout",
     "output_type": "stream",
     "text": [
      "0     True\n",
      "1    False\n",
      "2    False\n",
      "3    False\n",
      "4    False\n",
      "Name: name, dtype: bool \n",
      "\n",
      "0    False\n",
      "1    False\n",
      "2     True\n",
      "3    False\n",
      "4    False\n",
      "Name: name, dtype: bool\n"
     ]
    }
   ],
   "source": [
    "print(df.name.str.startswith ('M'),'\\n')\n",
    "print(df.name.str.endswith ('l'))"
   ]
  },
  {
   "cell_type": "code",
   "execution_count": 7,
   "metadata": {},
   "outputs": [
    {
     "name": "stdout",
     "output_type": "stream",
     "text": [
      "0   -1\n",
      "1    7\n",
      "2   -1\n",
      "3    8\n",
      "4   -1\n",
      "Name: name, dtype: int64 \n",
      "\n",
      "0     []\n",
      "1     []\n",
      "2    [B]\n",
      "3     []\n",
      "4    [B]\n",
      "Name: name, dtype: object\n"
     ]
    }
   ],
   "source": [
    "print(df.name.str.find('s'),'\\n')\n",
    "print(df.name.str.findall('B'))"
   ]
  },
  {
   "cell_type": "code",
   "execution_count": 8,
   "metadata": {},
   "outputs": [
    {
     "data": {
      "text/plain": [
       "0     True\n",
       "1    False\n",
       "2     True\n",
       "3    False\n",
       "4    False\n",
       "Name: name, dtype: bool"
      ]
     },
     "execution_count": 8,
     "metadata": {},
     "output_type": "execute_result"
    }
   ],
   "source": [
    "df.name.str.contains('e')"
   ]
  }
 ],
 "metadata": {
  "kernelspec": {
   "display_name": "Python 3",
   "language": "python",
   "name": "python3"
  },
  "language_info": {
   "codemirror_mode": {
    "name": "ipython",
    "version": 3
   },
   "file_extension": ".py",
   "mimetype": "text/x-python",
   "name": "python",
   "nbconvert_exporter": "python",
   "pygments_lexer": "ipython3",
   "version": "3.12.1"
  }
 },
 "nbformat": 4,
 "nbformat_minor": 2
}
