{
 "cells": [
  {
   "cell_type": "code",
   "execution_count": 1,
   "metadata": {},
   "outputs": [],
   "source": [
    "import pandas as pd"
   ]
  },
  {
   "cell_type": "code",
   "execution_count": 2,
   "metadata": {},
   "outputs": [
    {
     "name": "stdout",
     "output_type": "stream",
     "text": [
      "        Unnamed: 0         Price          Age     MetColor    Automatic  \\\n",
      "count  1436.000000   1436.000000  1336.000000  1286.000000  1436.000000   \n",
      "mean    717.500000  10730.824513    55.672156     0.674961     0.055710   \n",
      "std     414.681806   3626.964585    18.589804     0.468572     0.229441   \n",
      "min       0.000000   4350.000000     1.000000     0.000000     0.000000   \n",
      "25%     358.750000   8450.000000    43.000000     0.000000     0.000000   \n",
      "50%     717.500000   9900.000000    60.000000     1.000000     0.000000   \n",
      "75%    1076.250000  11950.000000    70.000000     1.000000     0.000000   \n",
      "max    1435.000000  32500.000000    80.000000     1.000000     1.000000   \n",
      "\n",
      "                CC      Weight  \n",
      "count  1436.000000  1436.00000  \n",
      "mean   1566.827994  1072.45961  \n",
      "std     187.182436    52.64112  \n",
      "min    1300.000000  1000.00000  \n",
      "25%    1400.000000  1040.00000  \n",
      "50%    1600.000000  1070.00000  \n",
      "75%    1600.000000  1085.00000  \n",
      "max    2000.000000  1615.00000  \n"
     ]
    }
   ],
   "source": [
    "data = pd.read_csv(\"Toyota.csv\")\n",
    "print(data.describe())"
   ]
  },
  {
   "cell_type": "code",
   "execution_count": 3,
   "metadata": {},
   "outputs": [
    {
     "name": "stdout",
     "output_type": "stream",
     "text": [
      "Unnamed: 0      0\n",
      "Price           0\n",
      "Age           100\n",
      "KM              0\n",
      "FuelType      100\n",
      "HP              0\n",
      "MetColor      150\n",
      "Automatic       0\n",
      "CC              0\n",
      "Doors           0\n",
      "Weight          0\n",
      "dtype: int64\n"
     ]
    }
   ],
   "source": [
    "print(data.isnull().sum())"
   ]
  },
  {
   "cell_type": "code",
   "execution_count": 4,
   "metadata": {},
   "outputs": [
    {
     "name": "stdout",
     "output_type": "stream",
     "text": [
      "55.67215568862275\n"
     ]
    }
   ],
   "source": [
    "print(data['Age'].mean())\n",
    "data['Age'].fillna(data['Age'].mean(), inplace=True)\n",
    "# This 'mean' value will be put in place of all missing values in 'Age' column."
   ]
  },
  {
   "cell_type": "code",
   "execution_count": 5,
   "metadata": {},
   "outputs": [
    {
     "name": "stdout",
     "output_type": "stream",
     "text": [
      "1.0\n"
     ]
    }
   ],
   "source": [
    "print(data['MetColor'].median())\n",
    "data['MetColor'].fillna(data['MetColor'].median(), inplace=True)\n",
    "# This 'median' value will be put in place of all missing values in 'MetColor' column."
   ]
  },
  {
   "cell_type": "code",
   "execution_count": 6,
   "metadata": {},
   "outputs": [
    {
     "name": "stdout",
     "output_type": "stream",
     "text": [
      "Unnamed: 0      0\n",
      "Price           0\n",
      "Age             0\n",
      "KM              0\n",
      "FuelType      100\n",
      "HP              0\n",
      "MetColor        0\n",
      "Automatic       0\n",
      "CC              0\n",
      "Doors           0\n",
      "Weight          0\n",
      "dtype: int64\n"
     ]
    }
   ],
   "source": [
    "print(data.isnull().sum())    # Updated values in the column 'Age' & 'MetColor'"
   ]
  },
  {
   "cell_type": "code",
   "execution_count": null,
   "metadata": {},
   "outputs": [],
   "source": []
  }
 ],
 "metadata": {
  "kernelspec": {
   "display_name": "Python 3",
   "language": "python",
   "name": "python3"
  },
  "language_info": {
   "codemirror_mode": {
    "name": "ipython",
    "version": 3
   },
   "file_extension": ".py",
   "mimetype": "text/x-python",
   "name": "python",
   "nbconvert_exporter": "python",
   "pygments_lexer": "ipython3",
   "version": "3.12.1"
  }
 },
 "nbformat": 4,
 "nbformat_minor": 2
}
