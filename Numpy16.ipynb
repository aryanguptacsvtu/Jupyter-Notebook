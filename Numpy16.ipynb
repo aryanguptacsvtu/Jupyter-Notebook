{
 "cells": [
  {
   "cell_type": "markdown",
   "metadata": {},
   "source": [
    "### Numpy Mathematical & Statistical Functions:-"
   ]
  },
  {
   "cell_type": "code",
   "execution_count": 21,
   "metadata": {},
   "outputs": [],
   "source": [
    "import numpy as np"
   ]
  },
  {
   "cell_type": "code",
   "execution_count": 29,
   "metadata": {},
   "outputs": [
    {
     "name": "stdout",
     "output_type": "stream",
     "text": [
      "[[ 0  1  2  3]\n",
      " [ 4  5  6  7]\n",
      " [ 8  9 10 11]\n",
      " [12 13 14 15]\n",
      " [16 17 18 19]]\n",
      "\n",
      " [[10 11 12 13]\n",
      " [14 15 16 17]\n",
      " [18 19 20 21]\n",
      " [22 23 24 25]\n",
      " [26 27 28 29]]\n",
      "Max: 19\n",
      "Sum: 190\n"
     ]
    }
   ],
   "source": [
    "a = np.arange(20).reshape(5,4)\n",
    "b = np.arange(10,30).reshape(5,4)\n",
    "print(a)\n",
    "print(\"\\n\",b)\n",
    "print(\"Max:\",np.max(a))\n",
    "print(\"Sum:\",np.sum(a))\n"
   ]
  },
  {
   "cell_type": "code",
   "execution_count": 23,
   "metadata": {},
   "outputs": [
    {
     "name": "stdout",
     "output_type": "stream",
     "text": [
      "Max: [16 17 18 19]\n",
      "Max: [ 3  7 11 15 19]\n"
     ]
    }
   ],
   "source": [
    "print(\"Max:\",np.max(a,axis=0))  # Max -> Row-wise\n",
    "print(\"Max:\",np.max(a,axis=1))  # Max -> Column-wise"
   ]
  },
  {
   "cell_type": "code",
   "execution_count": 24,
   "metadata": {},
   "outputs": [
    {
     "name": "stdout",
     "output_type": "stream",
     "text": [
      "Sum: [40 45 50 55]\n",
      "Sum: [ 6 22 38 54 70]\n"
     ]
    }
   ],
   "source": [
    "print(\"Sum:\",np.sum(a,axis=0))   # Sum -> Column-wise\n",
    "print(\"Sum:\",np.sum(a,axis=1))   # Sum -> Row-wise"
   ]
  },
  {
   "cell_type": "code",
   "execution_count": 25,
   "metadata": {},
   "outputs": [
    {
     "name": "stdout",
     "output_type": "stream",
     "text": [
      "Mean: [ 8.  9. 10. 11.]\n",
      "Mean: [ 1.5  5.5  9.5 13.5 17.5]\n"
     ]
    }
   ],
   "source": [
    "print(\"Mean:\",np.mean(a,axis=0))  # Mean -> Column-wise\n",
    "print(\"Mean:\",np.mean(a,axis=1))  # Mean -> Row-wise"
   ]
  },
  {
   "cell_type": "code",
   "execution_count": 26,
   "metadata": {},
   "outputs": [
    {
     "name": "stdout",
     "output_type": "stream",
     "text": [
      "Median: [18. 19. 20. 21.]\n",
      "Median: [11.5 15.5 19.5 23.5 27.5]\n"
     ]
    }
   ],
   "source": [
    "print(\"Median:\",np.median(b,axis=0))  \n",
    "print(\"Median:\",np.median(b,axis=1))  "
   ]
  },
  {
   "cell_type": "code",
   "execution_count": 27,
   "metadata": {},
   "outputs": [
    {
     "name": "stdout",
     "output_type": "stream",
     "text": [
      "Standard Deviation: [5.65685425 5.65685425 5.65685425 5.65685425]\n",
      "Standard Deviation: [1.11803399 1.11803399 1.11803399 1.11803399 1.11803399]\n"
     ]
    }
   ],
   "source": [
    "print(\"Standard Deviation:\",np.std(a,axis=0))  \n",
    "print(\"Standard Deviation:\",np.std(b,axis=1))  "
   ]
  }
 ],
 "metadata": {
  "kernelspec": {
   "display_name": "Python 3",
   "language": "python",
   "name": "python3"
  },
  "language_info": {
   "codemirror_mode": {
    "name": "ipython",
    "version": 3
   },
   "file_extension": ".py",
   "mimetype": "text/x-python",
   "name": "python",
   "nbconvert_exporter": "python",
   "pygments_lexer": "ipython3",
   "version": "3.12.1"
  }
 },
 "nbformat": 4,
 "nbformat_minor": 2
}
