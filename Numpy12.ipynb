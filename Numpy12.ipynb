{
 "cells": [
  {
   "cell_type": "markdown",
   "metadata": {},
   "source": [
    "**\"Sorting Methods\":-**"
   ]
  },
  {
   "cell_type": "code",
   "execution_count": 1,
   "metadata": {},
   "outputs": [],
   "source": [
    "import numpy as np"
   ]
  },
  {
   "cell_type": "code",
   "execution_count": 2,
   "metadata": {},
   "outputs": [
    {
     "name": "stdout",
     "output_type": "stream",
     "text": [
      "[[ 12  34  63 672   8]\n",
      " [  3   6  80  22 100]]\n",
      "[[  8  12  34  63 672]\n",
      " [  3   6  22  80 100]]\n"
     ]
    }
   ],
   "source": [
    "x = np.array([[12,34,63,672,8],[3,6,80,22,100]])\n",
    "print(x)\n",
    "y = np.ndarray.sort(x)\n",
    "print(x)"
   ]
  },
  {
   "cell_type": "code",
   "execution_count": 3,
   "metadata": {},
   "outputs": [
    {
     "name": "stdout",
     "output_type": "stream",
     "text": [
      "Original(x): [10 35 61 50 18]\n",
      "Sorted: [10 18 35 50 61]\n",
      "Sorted: [61 50 35 18 10]\n",
      "Original(x): [10 35 61 50 18]\n"
     ]
    }
   ],
   "source": [
    "x = np.array([10,35,61,50,18])\n",
    "print(\"Original(x):\",x)\n",
    "y = np.sort(x)\n",
    "print(\"Sorted:\",y)                # Sorting in 'Ascending Order'\n",
    "\n",
    "print(\"Sorted:\",np.sort(x)[::-1]) # Sorting in 'Descending Order'\n",
    "print(\"Original(x):\",x)"
   ]
  },
  {
   "cell_type": "code",
   "execution_count": 4,
   "metadata": {},
   "outputs": [
    {
     "name": "stdout",
     "output_type": "stream",
     "text": [
      "Original(a):\n",
      " [[41 70 13 80 48]\n",
      " [51 33 42 89 10]]\n",
      "Sorted:\n",
      " [[13 41 48 70 80]\n",
      " [10 33 42 51 89]]\n",
      "Original(a):\n",
      " [[41 70 13 80 48]\n",
      " [51 33 42 89 10]]\n"
     ]
    }
   ],
   "source": [
    "a = np.array([[41,70,13,80,48],[51,33,42,89,10]])\n",
    "print(\"Original(a):\\n\",a)\n",
    "b = np.sort(a)\n",
    "print(\"Sorted:\\n\",b)         # It will sort 'Row-wise'\n",
    "print(\"Original(a):\\n\",a)"
   ]
  },
  {
   "cell_type": "code",
   "execution_count": 5,
   "metadata": {},
   "outputs": [
    {
     "name": "stdout",
     "output_type": "stream",
     "text": [
      "Original(a): [ 4 72 12 80 44]\n",
      "Sorting Indices: [0 2 4 1 3]\n",
      "Original(a): [ 4 72 12 80 44]\n"
     ]
    }
   ],
   "source": [
    "a = np.array([4,72,12,80,44])\n",
    "print(\"Original(a):\",a)\n",
    "b = np.argsort(a)\n",
    "print(\"Sorting Indices:\",b)\n",
    "print(\"Original(a):\",a)"
   ]
  },
  {
   "cell_type": "code",
   "execution_count": 6,
   "metadata": {},
   "outputs": [
    {
     "name": "stdout",
     "output_type": "stream",
     "text": [
      "Original(a):\n",
      " [[ 2  4  7  1]\n",
      " [ 9 11  5  3]]\n",
      "Sorting Indices:\n",
      " [[3 0 1 2]\n",
      " [3 2 0 1]]\n",
      "Original(a):\n",
      " [[ 2  4  7  1]\n",
      " [ 9 11  5  3]]\n"
     ]
    }
   ],
   "source": [
    "a = np.array([[2,4,7,1],[9,11,5,3]])\n",
    "print(\"Original(a):\\n\",a)\n",
    "b = np.argsort(a)\n",
    "print(\"Sorting Indices:\\n\",b)         # It will sort 'Row-wise'\n",
    "print(\"Original(a):\\n\",a)"
   ]
  },
  {
   "cell_type": "code",
   "execution_count": 7,
   "metadata": {},
   "outputs": [
    {
     "name": "stdout",
     "output_type": "stream",
     "text": [
      "Original(a):\n",
      " [[[   4   72   12   80   44]\n",
      "  [  34   77   11    8    9]]\n",
      "\n",
      " [[   1   21   87   90   50]\n",
      "  [   5    4   42   89 1000]]]\n",
      "Sorting Indices:\n",
      " [[[0 2 4 1 3]\n",
      "  [3 4 2 0 1]]\n",
      "\n",
      " [[0 1 4 2 3]\n",
      "  [1 0 2 3 4]]]\n",
      "Original(a):\n",
      " [[[   4   72   12   80   44]\n",
      "  [  34   77   11    8    9]]\n",
      "\n",
      " [[   1   21   87   90   50]\n",
      "  [   5    4   42   89 1000]]]\n"
     ]
    }
   ],
   "source": [
    "a = np.array([[[4,72,12,80,44],[34,77,11,8,9]],[[1,21,87,90,50],[5,4,42,89,1000]]])\n",
    "print(\"Original(a):\\n\",a)\n",
    "b = np.argsort(a)\n",
    "print(\"Sorting Indices:\\n\",b)   # It will sort 'Row-wise'\n",
    "print(\"Original(a):\\n\",a)"
   ]
  },
  {
   "cell_type": "markdown",
   "metadata": {},
   "source": [
    "**\"Unique Function:-**"
   ]
  },
  {
   "cell_type": "code",
   "execution_count": 8,
   "metadata": {},
   "outputs": [
    {
     "name": "stdout",
     "output_type": "stream",
     "text": [
      "Unique function Output:- [10 11 15 20 30 66 88]\n"
     ]
    }
   ],
   "source": [
    "p = np.array([10,66,20,30,10,20,15,20,11,88])\n",
    "print(\"Unique function Output:-\",np.unique(p))"
   ]
  }
 ],
 "metadata": {
  "kernelspec": {
   "display_name": "Python 3",
   "language": "python",
   "name": "python3"
  },
  "language_info": {
   "codemirror_mode": {
    "name": "ipython",
    "version": 3
   },
   "file_extension": ".py",
   "mimetype": "text/x-python",
   "name": "python",
   "nbconvert_exporter": "python",
   "pygments_lexer": "ipython3",
   "version": "3.12.1"
  }
 },
 "nbformat": 4,
 "nbformat_minor": 2
}
