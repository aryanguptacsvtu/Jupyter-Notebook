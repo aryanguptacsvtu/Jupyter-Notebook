{
 "cells": [
  {
   "cell_type": "code",
   "execution_count": 1,
   "metadata": {},
   "outputs": [],
   "source": [
    "import pandas as pd"
   ]
  },
  {
   "cell_type": "code",
   "execution_count": 2,
   "metadata": {},
   "outputs": [],
   "source": [
    "x = pd.read_csv(\"Toyota.csv\")"
   ]
  },
  {
   "cell_type": "code",
   "execution_count": 3,
   "metadata": {},
   "outputs": [
    {
     "name": "stdout",
     "output_type": "stream",
     "text": [
      "FuelType\n",
      "Petrol    1177\n",
      "Diesel     144\n",
      "CNG         15\n",
      "Name: count, dtype: int64\n",
      "MetColor\n",
      "1.0    868\n",
      "0.0    418\n",
      "Name: count, dtype: int64\n"
     ]
    }
   ],
   "source": [
    "print(x['FuelType'].value_counts())\n",
    "print(x['MetColor'].value_counts())"
   ]
  },
  {
   "cell_type": "code",
   "execution_count": 4,
   "metadata": {},
   "outputs": [
    {
     "name": "stdout",
     "output_type": "stream",
     "text": [
      "Petrol\n",
      "Diesel\n",
      "CNG\n",
      "1.0\n",
      "0.0\n"
     ]
    }
   ],
   "source": [
    "print(x['FuelType'].value_counts().index[0])\n",
    "print(x['FuelType'].value_counts().index[1])\n",
    "print(x['FuelType'].value_counts().index[2])\n",
    "\n",
    "print(x['MetColor'].value_counts().index[0])\n",
    "print(x['MetColor'].value_counts().index[1])\n",
    "# print(x['MetColor'].value_counts().index[2])  [INVALID]"
   ]
  },
  {
   "cell_type": "code",
   "execution_count": 5,
   "metadata": {},
   "outputs": [
    {
     "name": "stdout",
     "output_type": "stream",
     "text": [
      "0      15\n",
      "1     144\n",
      "2    1177\n",
      "Name: count, dtype: int64\n",
      "0    418\n",
      "1    868\n",
      "Name: count, dtype: int64\n"
     ]
    }
   ],
   "source": [
    "print(x['FuelType'].value_counts().mode())   # To get the 'mode' value\n",
    "print(x['MetColor'].value_counts().mode())     "
   ]
  },
  {
   "cell_type": "code",
   "execution_count": 6,
   "metadata": {},
   "outputs": [
    {
     "name": "stdout",
     "output_type": "stream",
     "text": [
      "0    Petrol\n",
      "Name: FuelType, dtype: object\n",
      "0    1.0\n",
      "Name: MetColor, dtype: float64\n"
     ]
    }
   ],
   "source": [
    "print(x['FuelType'].mode())    # Gives highest frequency data\n",
    "print(x['MetColor'].mode())"
   ]
  },
  {
   "cell_type": "code",
   "execution_count": 7,
   "metadata": {},
   "outputs": [
    {
     "name": "stdout",
     "output_type": "stream",
     "text": [
      "Unnamed: 0      0\n",
      "Price           0\n",
      "Age           100\n",
      "KM              0\n",
      "FuelType      100\n",
      "HP              0\n",
      "MetColor      150\n",
      "Automatic       0\n",
      "CC              0\n",
      "Doors           0\n",
      "Weight          0\n",
      "dtype: int64\n"
     ]
    }
   ],
   "source": [
    "print(x.isnull().sum())"
   ]
  },
  {
   "cell_type": "code",
   "execution_count": 8,
   "metadata": {},
   "outputs": [
    {
     "name": "stdout",
     "output_type": "stream",
     "text": [
      "Unnamed: 0      0\n",
      "Price           0\n",
      "Age           100\n",
      "KM              0\n",
      "FuelType        0\n",
      "HP              0\n",
      "MetColor        0\n",
      "Automatic       0\n",
      "CC              0\n",
      "Doors           0\n",
      "Weight          0\n",
      "dtype: int64\n"
     ]
    }
   ],
   "source": [
    "x['FuelType'].fillna(x['FuelType'].value_counts().index[0],inplace=True)\n",
    "x['MetColor'].fillna(x['MetColor'].mode()[0],inplace=True)\n",
    "print(x.isnull().sum())"
   ]
  },
  {
   "cell_type": "code",
   "execution_count": 9,
   "metadata": {},
   "outputs": [
    {
     "name": "stdout",
     "output_type": "stream",
     "text": [
      "Unnamed: 0    0\n",
      "Price         0\n",
      "Age           0\n",
      "KM            0\n",
      "FuelType      0\n",
      "HP            0\n",
      "MetColor      0\n",
      "Automatic     0\n",
      "CC            0\n",
      "Doors         0\n",
      "Weight        0\n",
      "dtype: int64\n"
     ]
    }
   ],
   "source": [
    "# Imputing missing values using 'Lambda' function\n",
    "x = x.apply(lambda a:a.fillna(a.mean()) \\\n",
    "            if a.dtype =='float' else \\\n",
    "            a.fillna(a.value_counts().index[0]))\n",
    "\n",
    "print(x.isnull().sum())"
   ]
  },
  {
   "cell_type": "markdown",
   "metadata": {},
   "source": [
    "**\"Crosstab()\":-**"
   ]
  },
  {
   "cell_type": "code",
   "execution_count": 10,
   "metadata": {},
   "outputs": [],
   "source": [
    "a = pd.read_csv('Toyota.csv')"
   ]
  },
  {
   "cell_type": "code",
   "execution_count": 11,
   "metadata": {},
   "outputs": [
    {
     "name": "stdout",
     "output_type": "stream",
     "text": [
      "col_0     count\n",
      "FuelType       \n",
      "CNG          15\n",
      "Diesel      144\n",
      "Petrol     1177\n",
      "\t\n",
      "FuelType   CNG  Diesel  Petrol\n",
      "Automatic                     \n",
      "0           15     144    1104\n",
      "1            0       0      73\n"
     ]
    }
   ],
   "source": [
    "print(pd.crosstab(index=a['FuelType'] , columns= 'count',dropna=True))\n",
    "print('\\t')\n",
    "print(pd.crosstab(index=a['Automatic'] , columns= a['FuelType'],dropna=True))"
   ]
  },
  {
   "cell_type": "code",
   "execution_count": 12,
   "metadata": {},
   "outputs": [
    {
     "name": "stdout",
     "output_type": "stream",
     "text": [
      "FuelType        CNG    Diesel    Petrol\n",
      "Automatic                              \n",
      "0          0.011228  0.107784  0.826347\n",
      "1          0.000000  0.000000  0.054641\n"
     ]
    }
   ],
   "source": [
    "# 'Joint' Probability\n",
    "print(pd.crosstab(index=a['Automatic'] , columns= a['FuelType'],normalize=True,dropna=True))"
   ]
  },
  {
   "cell_type": "code",
   "execution_count": 13,
   "metadata": {},
   "outputs": [
    {
     "name": "stdout",
     "output_type": "stream",
     "text": [
      "FuelType        CNG    Diesel    Petrol       All\n",
      "Automatic                                        \n",
      "0          0.011228  0.107784  0.826347  0.945359\n",
      "1          0.000000  0.000000  0.054641  0.054641\n",
      "All        0.011228  0.107784  0.880988  1.000000\n"
     ]
    }
   ],
   "source": [
    "# 'Marginal' Probability\n",
    "print(pd.crosstab(index=a['Automatic'] , columns= a['FuelType'],margins=True,normalize=True,dropna=True))"
   ]
  },
  {
   "cell_type": "code",
   "execution_count": 14,
   "metadata": {},
   "outputs": [
    {
     "name": "stdout",
     "output_type": "stream",
     "text": [
      "FuelType        CNG    Diesel    Petrol\n",
      "Automatic                              \n",
      "0          0.011876  0.114014  0.874109\n",
      "1          0.000000  0.000000  1.000000\n",
      "All        0.011228  0.107784  0.880988\n"
     ]
    }
   ],
   "source": [
    "# 'Conditional' Probability\n",
    "print(pd.crosstab(index=a['Automatic'] , columns= a['FuelType'],normalize='index',margins=True,dropna=True))\n",
    "# Row sum = '1'"
   ]
  },
  {
   "cell_type": "code",
   "execution_count": 15,
   "metadata": {},
   "outputs": [
    {
     "name": "stdout",
     "output_type": "stream",
     "text": [
      "FuelType   CNG  Diesel    Petrol       All\n",
      "Automatic                                 \n",
      "0          1.0     1.0  0.937978  0.945359\n",
      "1          0.0     0.0  0.062022  0.054641\n"
     ]
    }
   ],
   "source": [
    "# 'Conditional' Probability\n",
    "print(pd.crosstab(index=a['Automatic'] , columns= a['FuelType'],normalize='columns',margins=True,dropna=True))\n",
    "# Column sum = '1'"
   ]
  }
 ],
 "metadata": {
  "kernelspec": {
   "display_name": "Python 3",
   "language": "python",
   "name": "python3"
  },
  "language_info": {
   "codemirror_mode": {
    "name": "ipython",
    "version": 3
   },
   "file_extension": ".py",
   "mimetype": "text/x-python",
   "name": "python",
   "nbconvert_exporter": "python",
   "pygments_lexer": "ipython3",
   "version": "3.12.1"
  }
 },
 "nbformat": 4,
 "nbformat_minor": 2
}
