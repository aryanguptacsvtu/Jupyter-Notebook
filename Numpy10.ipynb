{
 "cells": [
  {
   "cell_type": "markdown",
   "metadata": {},
   "source": [
    "## Arithmetic Operations on Numpy Array"
   ]
  },
  {
   "cell_type": "code",
   "execution_count": 18,
   "metadata": {},
   "outputs": [],
   "source": [
    "import numpy as np"
   ]
  },
  {
   "cell_type": "code",
   "execution_count": 19,
   "metadata": {},
   "outputs": [
    {
     "name": "stdout",
     "output_type": "stream",
     "text": [
      "[[ 3  4  6]\n",
      " [ 8 12 15]]\n",
      "[[-1  0  0]\n",
      " [ 0 -2 -3]]\n",
      "[[ 2  4  9]\n",
      " [16 35 54]]\n"
     ]
    },
    {
     "data": {
      "text/plain": [
       "(None, None, None)"
      ]
     },
     "execution_count": 19,
     "metadata": {},
     "output_type": "execute_result"
    }
   ],
   "source": [
    "a1 = np.array([[1,2,3],[4,5,6]])\n",
    "a2 = np.array([[2,2,3],[4,7,9]])\n",
    "C = a1 + a2\n",
    "D = a1 - a2\n",
    "E = a1 * a2      # Multiplication\n",
    "\n",
    "print(C) , print(D) ,print(E)"
   ]
  },
  {
   "cell_type": "code",
   "execution_count": 20,
   "metadata": {},
   "outputs": [
    {
     "name": "stdout",
     "output_type": "stream",
     "text": [
      "[[       1        4       27]\n",
      " [     256    78125 10077696]]\n",
      "[[0.5        1.         1.        ]\n",
      " [1.         0.71428571 0.66666667]]\n",
      "[[0 1 1]\n",
      " [1 0 0]]\n",
      "[[1 0 0]\n",
      " [0 5 6]]\n"
     ]
    },
    {
     "data": {
      "text/plain": [
       "(None, None, None, None)"
      ]
     },
     "execution_count": 20,
     "metadata": {},
     "output_type": "execute_result"
    }
   ],
   "source": [
    "F = a1 ** a2    # Exponentiation\n",
    "G = a1 / a2     # Division\n",
    "H = a1 // a2    # Floor Division\n",
    "I = a1 % a2     # Modulus\n",
    "\n",
    "print(F) , print(G) ,print(H) , print(I)"
   ]
  },
  {
   "cell_type": "code",
   "execution_count": 21,
   "metadata": {},
   "outputs": [
    {
     "name": "stdout",
     "output_type": "stream",
     "text": [
      "[[10 16 21]\n",
      " [28 43 57]]\n"
     ]
    }
   ],
   "source": [
    "a1 = np.array([[1,2],[4,5]])\n",
    "a2 = np.array([[2,2,3],[4,7,9]])\n",
    "J= a1 @ a2          # Matrix Multiplication\n",
    "print(J)"
   ]
  },
  {
   "cell_type": "code",
   "execution_count": 22,
   "metadata": {},
   "outputs": [
    {
     "name": "stdout",
     "output_type": "stream",
     "text": [
      "[[1 4]\n",
      " [2 5]]\n",
      "[[2 4]\n",
      " [2 7]\n",
      " [3 9]]\n"
     ]
    }
   ],
   "source": [
    "print(a1.transpose())\n",
    "print(a2.transpose())"
   ]
  },
  {
   "cell_type": "markdown",
   "metadata": {},
   "source": [
    "## Boolean Indexing"
   ]
  },
  {
   "cell_type": "code",
   "execution_count": 41,
   "metadata": {},
   "outputs": [
    {
     "name": "stdout",
     "output_type": "stream",
     "text": [
      "[20 22 24 26 28 30 32 34 36 38]\n",
      "[26 28 30 32 34 36 38]\n",
      "[False False False False False False  True  True  True  True]\n"
     ]
    }
   ],
   "source": [
    "a = np.arange(20,40,2)\n",
    "print(a)\n",
    "print(a[a>25])\n",
    "print(a>30)"
   ]
  },
  {
   "cell_type": "code",
   "execution_count": 28,
   "metadata": {},
   "outputs": [
    {
     "name": "stdout",
     "output_type": "stream",
     "text": [
      "[[False  True False]\n",
      " [ True False  True]\n",
      " [False  True  True]]\n"
     ]
    }
   ],
   "source": [
    "x = np.array([[1,10,3],[4,5,36],[1,56,20]])\n",
    "print(x % 2 ==0)"
   ]
  },
  {
   "cell_type": "code",
   "execution_count": 32,
   "metadata": {},
   "outputs": [
    {
     "name": "stdout",
     "output_type": "stream",
     "text": [
      "[20 22 24 26 28]\n",
      "[20 24 28]\n"
     ]
    }
   ],
   "source": [
    "p = np.arange(20,30,2)\n",
    "print(p)\n",
    "q = [True , False ,True , False , True]\n",
    "print(p[q])        # It will return the element which position is TRUE"
   ]
  },
  {
   "cell_type": "code",
   "execution_count": 40,
   "metadata": {},
   "outputs": [
    {
     "name": "stdout",
     "output_type": "stream",
     "text": [
      "[[20 22]\n",
      " [24 26]\n",
      " [28 30]\n",
      " [32 34]\n",
      " [36 38]]\n",
      "\t\n",
      "[[20 22]\n",
      " [28 30]\n",
      " [36 38]]\n"
     ]
    }
   ],
   "source": [
    "X = np.arange(20,40,2).reshape(5,2)\n",
    "print(X)\n",
    "Y = [True , False ,True , False , True]\n",
    "print('\\t')\n",
    "print(X[Y])        # It will work Row-wise"
   ]
  },
  {
   "cell_type": "code",
   "execution_count": null,
   "metadata": {},
   "outputs": [],
   "source": []
  }
 ],
 "metadata": {
  "kernelspec": {
   "display_name": "Python 3",
   "language": "python",
   "name": "python3"
  },
  "language_info": {
   "codemirror_mode": {
    "name": "ipython",
    "version": 3
   },
   "file_extension": ".py",
   "mimetype": "text/x-python",
   "name": "python",
   "nbconvert_exporter": "python",
   "pygments_lexer": "ipython3",
   "version": "3.12.1"
  }
 },
 "nbformat": 4,
 "nbformat_minor": 2
}
