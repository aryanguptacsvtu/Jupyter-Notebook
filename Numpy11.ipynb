{
 "cells": [
  {
   "cell_type": "markdown",
   "metadata": {},
   "source": [
    "## Universal Functions"
   ]
  },
  {
   "cell_type": "code",
   "execution_count": 1,
   "metadata": {},
   "outputs": [],
   "source": [
    "import numpy as np"
   ]
  },
  {
   "cell_type": "markdown",
   "metadata": {},
   "source": [
    "**\"Unary Universal Functions\" :-**"
   ]
  },
  {
   "cell_type": "code",
   "execution_count": 2,
   "metadata": {},
   "outputs": [
    {
     "name": "stdout",
     "output_type": "stream",
     "text": [
      "Actual Array: [ 0  1  2  3  4  5  6  7  8  9 10]\n"
     ]
    }
   ],
   "source": [
    "a = np.arange(11)\n",
    "print(\"Actual Array:\",a)"
   ]
  },
  {
   "cell_type": "code",
   "execution_count": 3,
   "metadata": {},
   "outputs": [
    {
     "name": "stdout",
     "output_type": "stream",
     "text": [
      "Square value: [  0   1   4   9  16  25  36  49  64  81 100]\n",
      "New array:\n",
      " [0.         1.         1.41421356 1.73205081 2.         2.23606798\n",
      " 2.44948974 2.64575131 2.82842712 3.         3.16227766]\n"
     ]
    }
   ],
   "source": [
    "print(\"Square value:\",np.square(a))\n",
    "a = np.sqrt(a)\n",
    "print(\"New array:\\n\",a)"
   ]
  },
  {
   "cell_type": "code",
   "execution_count": 4,
   "metadata": {},
   "outputs": [
    {
     "name": "stdout",
     "output_type": "stream",
     "text": [
      "Absolute value:-\n",
      " [0.         1.         1.41421356 1.73205081 2.         2.23606798\n",
      " 2.44948974 2.64575131 2.82842712 3.         3.16227766]\n",
      "Log value:-\n",
      " [0.         0.69314718 0.88137359 1.00505254 1.09861229 1.17435901\n",
      " 1.23822632 1.29356247 1.34245405 1.38629436 1.42606244]\n"
     ]
    }
   ],
   "source": [
    "print(\"Absolute value:-\\n\",np.abs(a))\n",
    "print(\"Log value:-\\n\",np.log1p(a))     # Base(e)"
   ]
  },
  {
   "cell_type": "code",
   "execution_count": 5,
   "metadata": {},
   "outputs": [
    {
     "name": "stdout",
     "output_type": "stream",
     "text": [
      "Ceiling value: [0. 1. 2. 2. 2. 3. 3. 3. 3. 3. 4.]\n",
      "Floor value: [0. 1. 1. 1. 2. 2. 2. 2. 2. 3. 3.]\n",
      "Sign value: [0. 1. 1. 1. 1. 1. 1. 1. 1. 1. 1.]\n"
     ]
    }
   ],
   "source": [
    "print(\"Ceiling value:\",np.ceil(a))\n",
    "print(\"Floor value:\",np.floor(a)) \n",
    "print(\"Sign value:\",np.sign(a)) "
   ]
  },
  {
   "cell_type": "code",
   "execution_count": 6,
   "metadata": {},
   "outputs": [
    {
     "name": "stdout",
     "output_type": "stream",
     "text": [
      "Rint value:- [0. 1. 1. 2. 2. 2. 2. 3. 3. 3. 3.]\n",
      "Modf value:-\n",
      " (array([0.        , 0.        , 0.41421356, 0.73205081, 0.        ,\n",
      "       0.23606798, 0.44948974, 0.64575131, 0.82842712, 0.        ,\n",
      "       0.16227766]), array([0., 1., 1., 1., 2., 2., 2., 2., 2., 3., 3.]))\n"
     ]
    }
   ],
   "source": [
    "print(\"Rint value:-\",np.rint(a)) \n",
    "print(\"Modf value:-\\n\",np.modf(a)) "
   ]
  },
  {
   "cell_type": "code",
   "execution_count": 7,
   "metadata": {},
   "outputs": [
    {
     "name": "stdout",
     "output_type": "stream",
     "text": [
      "IsNan value:- [False False False False False False False False False False False]\n",
      "Isfinite value:- [ True  True  True  True  True  True  True  True  True  True  True]\n",
      "Isinfinite value:- [False False False False False False False False False False False]\n"
     ]
    }
   ],
   "source": [
    "print(\"IsNan value:-\",np.isnan(a)) \n",
    "print(\"Isfinite value:-\",np.isfinite(a)) \n",
    "print(\"Isinfinite value:-\",np.isinf(a)) "
   ]
  },
  {
   "cell_type": "code",
   "execution_count": 8,
   "metadata": {},
   "outputs": [
    {
     "name": "stdout",
     "output_type": "stream",
     "text": [
      "Sin value:-\n",
      " [ 0.          0.84147098  0.98776595  0.98702664  0.90929743  0.78674913\n",
      "  0.63815764  0.47577184  0.30807174  0.14112001 -0.02068353]\n",
      "Hyperbolic sin value:-\n",
      " [ 0.          1.17520119  1.93506682  2.73765623  3.62686041  4.62479555\n",
      "  5.74804878  7.01153904  8.42986147 10.01787493 11.79100685]\n",
      "Inverse tan value:-\n",
      " [0.         0.78539816 0.95531662 1.04719755 1.10714872 1.15026199\n",
      " 1.18319964 1.2094292  1.23095942 1.24904577 1.26451896]\n"
     ]
    }
   ],
   "source": [
    "print(\"Sin value:-\\n\",np.sin(a))\n",
    "print(\"Hyperbolic sin value:-\\n\",np.sinh(a))\n",
    "print(\"Inverse tan value:-\\n\",np.arctan(a))"
   ]
  },
  {
   "cell_type": "markdown",
   "metadata": {},
   "source": [
    "**\"Binary Universal Functions\" :-**"
   ]
  },
  {
   "cell_type": "code",
   "execution_count": 9,
   "metadata": {},
   "outputs": [
    {
     "name": "stdout",
     "output_type": "stream",
     "text": [
      "Array A: [ 6  7  8  9 10 11 12 13 14 15]\n",
      "Array B: [ 1  3  5  7  9 11 13 15 17 19]\n"
     ]
    }
   ],
   "source": [
    "A = np.arange(6,16,1)\n",
    "B = np.arange(1,20,2)\n",
    "print(\"Array A:\",A) \n",
    "print(\"Array B:\",B) "
   ]
  },
  {
   "cell_type": "code",
   "execution_count": 10,
   "metadata": {},
   "outputs": [
    {
     "name": "stdout",
     "output_type": "stream",
     "text": [
      "Adding elements from both: [ 7 10 13 16 19 22 25 28 31 34]\n",
      "Dividing elements from both: [6 2 1 1 1 1 0 0 0 0]\n"
     ]
    }
   ],
   "source": [
    "print(\"Adding elements from both:\",np.add(A,B))\n",
    "print(\"Dividing elements from both:\",np.floor_divide(A,B))"
   ]
  },
  {
   "cell_type": "code",
   "execution_count": 11,
   "metadata": {},
   "outputs": [
    {
     "name": "stdout",
     "output_type": "stream",
     "text": [
      "Maximum elements from both: [ 6  7  8  9 10 11 13 15 17 19]\n",
      "Minimum elements from both: [ 1  3  5  7  9 11 12 13 14 15]\n"
     ]
    }
   ],
   "source": [
    "print(\"Maximum elements from both:\",np.maximum(A,B))\n",
    "print(\"Minimum elements from both:\",np.minimum(A,B))"
   ]
  },
  {
   "cell_type": "code",
   "execution_count": 12,
   "metadata": {},
   "outputs": [
    {
     "name": "stdout",
     "output_type": "stream",
     "text": [
      "Multiplying elements from both: [  6  21  40  63  90 121 156 195 238 285]\n",
      "Power:\n",
      " [         6        343      32768    4782969 1000000000 1843829075\n",
      " 1275068416 1788720133 -586285056  198698543]\n"
     ]
    }
   ],
   "source": [
    "print(\"Multiplying elements from both:\",np.multiply(A,B))\n",
    "print(\"Power:\\n\",np.power(A,B))    # Elements of 'A' are raised to power of elements of 'B'"
   ]
  },
  {
   "cell_type": "code",
   "execution_count": 13,
   "metadata": {},
   "outputs": [
    {
     "name": "stdout",
     "output_type": "stream",
     "text": [
      "Mod: [ 0  1  3  2  1  0 12 13 14 15]\n",
      "Copysign: [ 6.  7.  8.  9. 10. 11. 12. 13. 14. 15.]\n"
     ]
    }
   ],
   "source": [
    "print(\"Mod:\",np.mod(A,B))     # Gives remainder when elements of 'A' are divided by elements of 'B'\n",
    "print(\"Copysign:\",np.copysign(A,B))   "
   ]
  },
  {
   "cell_type": "code",
   "execution_count": 14,
   "metadata": {},
   "outputs": [
    {
     "name": "stdout",
     "output_type": "stream",
     "text": [
      "[ 6  5  4  3  2  1  0 -1 -2 -3 -4 -5]\n",
      "[  6   4   2   0  -2  -4  -6  -8 -10 -12 -14 -16]\n"
     ]
    }
   ],
   "source": [
    "X = np.arange(6, -6 , -1)\n",
    "Y = np.arange(6, -18 , -2)\n",
    "print(X)\n",
    "print(Y)"
   ]
  },
  {
   "cell_type": "code",
   "execution_count": 15,
   "metadata": {},
   "outputs": [
    {
     "name": "stdout",
     "output_type": "stream",
     "text": [
      "Copysign: [ 6.  5.  4.  3. -2. -1. -0. -1. -2. -3. -4. -5.]\n",
      "Copysign: [  6.   4.   2.   0.   2.   4.   6.  -8. -10. -12. -14. -16.]\n"
     ]
    }
   ],
   "source": [
    "print(\"Copysign:\",np.copysign(X,Y))     # Put sign of second argument to first argument\n",
    "print(\"Copysign:\",np.copysign(Y,X))     "
   ]
  },
  {
   "cell_type": "code",
   "execution_count": 16,
   "metadata": {},
   "outputs": [
    {
     "name": "stdout",
     "output_type": "stream",
     "text": [
      "[[ 6  5  4  3]\n",
      " [ 2  1  0 -1]\n",
      " [-2 -3 -4 -5]]\n",
      "[[  6   4   2   0]\n",
      " [ -2  -4  -6  -8]\n",
      " [-10 -12 -14 -16]]\n"
     ]
    }
   ],
   "source": [
    "F = np.arange(6, -6 , -1).reshape((3,4))\n",
    "G = np.arange(6, -18 , -2).reshape((3,4))\n",
    "print(F)\n",
    "print(G)"
   ]
  },
  {
   "cell_type": "code",
   "execution_count": 17,
   "metadata": {},
   "outputs": [
    {
     "name": "stdout",
     "output_type": "stream",
     "text": [
      "Copysign:\n",
      " [[ 6.  5.  4.  3.]\n",
      " [-2. -1. -0. -1.]\n",
      " [-2. -3. -4. -5.]]\n",
      "Copysign:\n",
      " [[  6.   4.   2.   0.]\n",
      " [  2.   4.   6.  -8.]\n",
      " [-10. -12. -14. -16.]]\n"
     ]
    }
   ],
   "source": [
    "print(\"Copysign:\\n\",np.copysign(F,G))     # Put sign of second argument to first argument\n",
    "print(\"Copysign:\\n\",np.copysign(G,F))"
   ]
  }
 ],
 "metadata": {
  "kernelspec": {
   "display_name": "Python 3",
   "language": "python",
   "name": "python3"
  },
  "language_info": {
   "codemirror_mode": {
    "name": "ipython",
    "version": 3
   },
   "file_extension": ".py",
   "mimetype": "text/x-python",
   "name": "python",
   "nbconvert_exporter": "python",
   "pygments_lexer": "ipython3",
   "version": "3.12.1"
  }
 },
 "nbformat": 4,
 "nbformat_minor": 2
}
