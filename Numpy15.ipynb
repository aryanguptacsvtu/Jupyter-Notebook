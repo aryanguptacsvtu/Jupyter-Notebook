{
 "cells": [
  {
   "cell_type": "markdown",
   "metadata": {},
   "source": [
    "## Concatenating Arrays"
   ]
  },
  {
   "cell_type": "code",
   "execution_count": 1,
   "metadata": {},
   "outputs": [],
   "source": [
    "import numpy as np"
   ]
  },
  {
   "cell_type": "code",
   "execution_count": 2,
   "metadata": {},
   "outputs": [
    {
     "name": "stdout",
     "output_type": "stream",
     "text": [
      "[1. 2. 3. 4. 0. 1. 2. 3. 4. 5.]\n",
      "[1. 2. 3. 4. 0. 1. 2. 3. 4. 5.]\n"
     ]
    }
   ],
   "source": [
    "a = np.arange(1,5)\n",
    "b = np.arange(6)\n",
    "c = np.zeros(10)\n",
    "print(np.concatenate((a,b),out =c))\n",
    "print(c)"
   ]
  },
  {
   "cell_type": "code",
   "execution_count": 3,
   "metadata": {},
   "outputs": [
    {
     "name": "stdout",
     "output_type": "stream",
     "text": [
      "[1 2 3 4 0 1 2 3 4 5 6 7]\n",
      "[1 2 3 4]\n"
     ]
    }
   ],
   "source": [
    "A = np.arange(1,5)\n",
    "B = np.arange(8)\n",
    "print(np.concatenate((A,B)))\n",
    "print(A)"
   ]
  },
  {
   "cell_type": "code",
   "execution_count": 4,
   "metadata": {},
   "outputs": [
    {
     "name": "stdout",
     "output_type": "stream",
     "text": [
      "[[ 1  2]\n",
      " [ 3  4]\n",
      " [10 50]]\n",
      "[[ 1  2 10]\n",
      " [ 3  4 50]]\n"
     ]
    }
   ],
   "source": [
    "x = np.array([[1,2],[3,4]])\n",
    "y = np.array([[10,50]])\n",
    "print(np.concatenate((x,y),axis=0))\n",
    "print(np.concatenate((x,y.T),axis=1))\n"
   ]
  },
  {
   "cell_type": "code",
   "execution_count": 5,
   "metadata": {},
   "outputs": [
    {
     "name": "stdout",
     "output_type": "stream",
     "text": [
      "[[[ 1  3]\n",
      "  [ 5  7]\n",
      "  [ 9 11]]\n",
      "\n",
      " [[13 15]\n",
      "  [17 19]\n",
      "  [21 23]]]\n",
      "[[[ 2  3]\n",
      "  [ 4  5]\n",
      "  [ 6  7]]\n",
      "\n",
      " [[ 8  9]\n",
      "  [10 11]\n",
      "  [12 13]]]\n"
     ]
    },
    {
     "data": {
      "text/plain": [
       "(None, None)"
      ]
     },
     "execution_count": 5,
     "metadata": {},
     "output_type": "execute_result"
    }
   ],
   "source": [
    "p = np.arange(1,25,2).reshape(2,3,2)\n",
    "q = np.arange(2,14,1).reshape(2,3,2)\n",
    "print(p) , print(q)"
   ]
  },
  {
   "cell_type": "code",
   "execution_count": 6,
   "metadata": {},
   "outputs": [
    {
     "name": "stdout",
     "output_type": "stream",
     "text": [
      "[[[ 1  3]\n",
      "  [ 5  7]\n",
      "  [ 9 11]]\n",
      "\n",
      " [[13 15]\n",
      "  [17 19]\n",
      "  [21 23]]\n",
      "\n",
      " [[ 2  3]\n",
      "  [ 4  5]\n",
      "  [ 6  7]]\n",
      "\n",
      " [[ 8  9]\n",
      "  [10 11]\n",
      "  [12 13]]]\n"
     ]
    }
   ],
   "source": [
    "print(np.concatenate((p,q),axis=0))"
   ]
  },
  {
   "cell_type": "code",
   "execution_count": 7,
   "metadata": {},
   "outputs": [
    {
     "name": "stdout",
     "output_type": "stream",
     "text": [
      "[[[ 1  3]\n",
      "  [ 5  7]\n",
      "  [ 9 11]\n",
      "  [ 2  3]\n",
      "  [ 4  5]\n",
      "  [ 6  7]]\n",
      "\n",
      " [[13 15]\n",
      "  [17 19]\n",
      "  [21 23]\n",
      "  [ 8  9]\n",
      "  [10 11]\n",
      "  [12 13]]]\n"
     ]
    }
   ],
   "source": [
    "print(np.concatenate((p,q),axis=1))"
   ]
  }
 ],
 "metadata": {
  "kernelspec": {
   "display_name": "Python 3",
   "language": "python",
   "name": "python3"
  },
  "language_info": {
   "codemirror_mode": {
    "name": "ipython",
    "version": 3
   },
   "file_extension": ".py",
   "mimetype": "text/x-python",
   "name": "python",
   "nbconvert_exporter": "python",
   "pygments_lexer": "ipython3",
   "version": "3.12.1"
  }
 },
 "nbformat": 4,
 "nbformat_minor": 2
}
