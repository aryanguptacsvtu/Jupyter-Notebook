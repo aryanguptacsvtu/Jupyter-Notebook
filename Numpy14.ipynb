{
 "cells": [
  {
   "cell_type": "markdown",
   "metadata": {},
   "source": [
    "**Numpy \"Insertion\":-**"
   ]
  },
  {
   "cell_type": "code",
   "execution_count": 1,
   "metadata": {},
   "outputs": [],
   "source": [
    "import numpy as np"
   ]
  },
  {
   "cell_type": "code",
   "execution_count": 2,
   "metadata": {},
   "outputs": [
    {
     "name": "stdout",
     "output_type": "stream",
     "text": [
      "Original: [ 1  2  3  4  5  6  7  8  9 10]\n",
      "Modified: [ 1 55  2  3  4  5  6  7  8  9 10]\n",
      "Modified: [ 1 75  2  3  4  5  6  7  8  9 10]\n",
      "Modified: [ 1 88  2  3 88  4  5 88  6  7  8  9 10]\n",
      "Original: [ 1  2  3  4  5  6  7  8  9 10]\n"
     ]
    }
   ],
   "source": [
    "a = np.arange(1,11)\n",
    "print(\"Original:\",a)\n",
    "\n",
    "print(\"Modified:\",np.insert(a,1,55))\n",
    "c = np.insert(a,1,75.8)\n",
    "print(\"Modified:\",c)\n",
    "\n",
    "print(\"Modified:\",np.insert(a,(1,3,5),88))    # Inserting single value on multiple indices\n",
    "print(\"Original:\",a)"
   ]
  },
  {
   "cell_type": "code",
   "execution_count": 3,
   "metadata": {},
   "outputs": [
    {
     "name": "stdout",
     "output_type": "stream",
     "text": [
      "Original:\n",
      " [[ 2  4  7  1]\n",
      " [ 9 11  5  3]]\n",
      "Modified:\n",
      " [[ 2  4  7  1]\n",
      " [23 23 23 23]\n",
      " [ 9 11  5  3]]\n",
      "Modified:\n",
      " [[ 2  4  7  1]\n",
      " [23 71 88 99]\n",
      " [ 9 11  5  3]]\n",
      "Modified:\n",
      " [[30 66 20 77]\n",
      " [ 2  4  7  1]\n",
      " [ 9 11  5  3]\n",
      " [30 66 20 77]]\n"
     ]
    }
   ],
   "source": [
    "w = np.array([[2,4,7,1],[9,11,5,3]])\n",
    "x = np.insert(w,1,23,axis=0)\n",
    "y = np.insert(w,1,[23,71,88,99],axis=0)      # Inserting distinct values on single index\n",
    "z = np.insert(w,(0,2),[30,66,20,77],axis=0)  # Inserting distinct values on multiple indices\n",
    "print(\"Original:\\n\",w)\n",
    "print(\"Modified:\\n\",x)\n",
    "print(\"Modified:\\n\",y)\n",
    "print(\"Modified:\\n\",z)"
   ]
  },
  {
   "cell_type": "code",
   "execution_count": 4,
   "metadata": {},
   "outputs": [
    {
     "name": "stdout",
     "output_type": "stream",
     "text": [
      "Original:\n",
      " [[ 2  4  7  1]\n",
      " [ 9 11  5  3]]\n",
      "Modified:\n",
      " [[  2 100   4   7   1]\n",
      " [  9 200  11   5   3]]\n",
      "Modified:\n",
      " [[  2   4 101   7 202   1]\n",
      " [  9  11 101   5 202   3]]\n",
      "Modified:\n",
      " [[  2   4 500   7 500   1]\n",
      " [  9  11 500   5 500   3]]\n"
     ]
    }
   ],
   "source": [
    "x = np.array([[2,4,7,1],[9,11,5,3]])\n",
    "y = np.insert(x,1,[100,200],axis=1)\n",
    "z = np.insert(x,(2,3),[101,202],axis=1)\n",
    "print(\"Original:\\n\",x)\n",
    "print(\"Modified:\\n\",y)\n",
    "print(\"Modified:\\n\",z)\n",
    "print(\"Modified:\\n\",np.insert(x,(2,3),500,axis=1))  # Inserting single value on multiple indices"
   ]
  },
  {
   "cell_type": "code",
   "execution_count": 5,
   "metadata": {},
   "outputs": [
    {
     "name": "stdout",
     "output_type": "stream",
     "text": [
      "Original: [ 1  2  3  4  5  6  7  8  9 10]\n",
      "Modified: [ 1  2  3  4  5  6  7  8  9 10 55]\n",
      "Modified: [  1   2   3   4   5   6   7   8   9  10 100 800]\n",
      "Modified: [ 2  4  7  1  9 11  5  3 55]\n"
     ]
    }
   ],
   "source": [
    "A = np.arange(1,11)              # Using \"append()\" function\n",
    "print(\"Original:\",a)\n",
    "print(\"Modified:\",np.append(a,55))\n",
    "print(\"Modified:\",np.append(a,(100,800)))\n",
    "\n",
    "x = np.array([[2,4,7,1],[9,11,5,3]])\n",
    "print(\"Modified:\",np.append(x,55))\n"
   ]
  },
  {
   "cell_type": "markdown",
   "metadata": {},
   "source": [
    "**Numpy \"Deletion\":-**"
   ]
  },
  {
   "cell_type": "code",
   "execution_count": 6,
   "metadata": {},
   "outputs": [
    {
     "name": "stdout",
     "output_type": "stream",
     "text": [
      "Original: [10 11 12 13 14 15 16 17 18 19 20]\n",
      "Modified: [10 11 12 13 15 16 17 18 19 20]\n",
      "Original: [10 11 12 13 14 15 16 17 18 19 20]\n",
      "Array:\n",
      " [[ 2  4  7  1]\n",
      " [ 9 11  5  3]]\n",
      "Modified: [ 2  4  7  9 11  5  3]\n"
     ]
    }
   ],
   "source": [
    "a = np.arange(10,21)\n",
    "print(\"Original:\",a)\n",
    "\n",
    "print(\"Modified:\",np.delete(a,4))\n",
    "print(\"Original:\",a)\n",
    "\n",
    "x = np.array([[2,4,7,1],[9,11,5,3]])\n",
    "print(\"Array:\\n\",x)\n",
    "print(\"Modified:\",np.delete(x,3))"
   ]
  }
 ],
 "metadata": {
  "kernelspec": {
   "display_name": "Python 3",
   "language": "python",
   "name": "python3"
  },
  "language_info": {
   "codemirror_mode": {
    "name": "ipython",
    "version": 3
   },
   "file_extension": ".py",
   "mimetype": "text/x-python",
   "name": "python",
   "nbconvert_exporter": "python",
   "pygments_lexer": "ipython3",
   "version": "3.12.1"
  }
 },
 "nbformat": 4,
 "nbformat_minor": 2
}
