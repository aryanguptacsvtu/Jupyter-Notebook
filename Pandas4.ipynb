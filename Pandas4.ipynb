{
 "cells": [
  {
   "cell_type": "markdown",
   "metadata": {},
   "source": [
    "**\"Creating Series\":-**"
   ]
  },
  {
   "cell_type": "code",
   "execution_count": 1,
   "metadata": {},
   "outputs": [],
   "source": [
    "import pandas as pd"
   ]
  },
  {
   "cell_type": "code",
   "execution_count": 2,
   "metadata": {},
   "outputs": [
    {
     "name": "stdout",
     "output_type": "stream",
     "text": [
      "<class 'pandas.core.series.Series'>\n",
      "Length: 4\n",
      "0    Ind\n",
      "1    Aus\n",
      "2     NZ\n",
      "3     US\n",
      "dtype: object\n"
     ]
    }
   ],
   "source": [
    "s = pd.Series(['Ind','Aus','NZ','US'])\n",
    "print(type(s))\n",
    "print(\"Length:\",len(s))\n",
    "print(s)"
   ]
  },
  {
   "cell_type": "code",
   "execution_count": 3,
   "metadata": {},
   "outputs": [
    {
     "data": {
      "text/plain": [
       "a    Ind\n",
       "b    Aus\n",
       "c     NZ\n",
       "d     US\n",
       "dtype: object"
      ]
     },
     "execution_count": 3,
     "metadata": {},
     "output_type": "execute_result"
    }
   ],
   "source": [
    "S = pd.Series(['Ind','Aus','NZ','US'],index=['a','b','c','d'])\n",
    "S"
   ]
  },
  {
   "cell_type": "code",
   "execution_count": 4,
   "metadata": {},
   "outputs": [
    {
     "name": "stdout",
     "output_type": "stream",
     "text": [
      "Ind     1000\n",
      "Aus     2000\n",
      "NewZ    3000\n",
      "USA     4000\n",
      "dtype: int64\n"
     ]
    }
   ],
   "source": [
    "country =[\"Ind\",\"Aus\",\"NewZ\",\"USA\"]  # Creating 'Series' by using Lists\n",
    "cost = [1000,2000,3000,4000]\n",
    "sales = pd.Series(cost , index =country)\n",
    "print(sales)"
   ]
  },
  {
   "cell_type": "code",
   "execution_count": 5,
   "metadata": {},
   "outputs": [
    {
     "name": "stdout",
     "output_type": "stream",
     "text": [
      "Ind     1000\n",
      "Aus     2000\n",
      "NewZ    3000\n",
      "USA     4000\n",
      "dtype: int64\n"
     ]
    }
   ],
   "source": [
    "country =(\"Ind\",\"Aus\",\"NewZ\",\"USA\")  # Creating 'Series' by using Tuples\n",
    "cost = (1000,2000,3000,4000)\n",
    "sales = pd.Series(cost , index =country)\n",
    "print(sales)"
   ]
  },
  {
   "cell_type": "code",
   "execution_count": 6,
   "metadata": {},
   "outputs": [
    {
     "name": "stdout",
     "output_type": "stream",
     "text": [
      "Ind     1000\n",
      "Aus     2000\n",
      "NewZ    3000\n",
      "USA     4000\n",
      "dtype: int64\n"
     ]
    }
   ],
   "source": [
    "data ={\"Ind\":1000,\"Aus\":2000,\"NewZ\":3000,\"USA\":4000} # Creating 'Series' by using Dictionary\n",
    "sales = pd.Series(data)\n",
    "print(sales)"
   ]
  }
 ],
 "metadata": {
  "kernelspec": {
   "display_name": "Python 3",
   "language": "python",
   "name": "python3"
  },
  "language_info": {
   "codemirror_mode": {
    "name": "ipython",
    "version": 3
   },
   "file_extension": ".py",
   "mimetype": "text/x-python",
   "name": "python",
   "nbconvert_exporter": "python",
   "pygments_lexer": "ipython3",
   "version": "3.12.1"
  }
 },
 "nbformat": 4,
 "nbformat_minor": 2
}
