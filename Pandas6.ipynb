{
 "cells": [
  {
   "cell_type": "markdown",
   "metadata": {},
   "source": [
    "**\"Attributes of DataFrame\":-**"
   ]
  },
  {
   "cell_type": "code",
   "execution_count": 1,
   "metadata": {},
   "outputs": [],
   "source": [
    "import pandas as pd"
   ]
  },
  {
   "cell_type": "code",
   "execution_count": 2,
   "metadata": {},
   "outputs": [
    {
     "name": "stdout",
     "output_type": "stream",
     "text": [
      "   RollNo     Name  Age  Gender   Address\n",
      "0       1    Vikas   31    male    Raipur\n",
      "1       2     Amir   32    male  Bilaspur\n",
      "2       3   Tushar   33    male      Durg\n",
      "3       4    Payal   34  female    Raipur\n",
      "4       5  Prateek   35    male     Korba\n"
     ]
    }
   ],
   "source": [
    "Data = [(1,'Vikas',31,'male','Raipur'),\n",
    "        (2,'Amir',32,'male','Bilaspur'),\n",
    "        (3,'Tushar',33,'male','Durg'),\n",
    "        (4,'Payal',34,'female','Raipur'),\n",
    "        (5,'Prateek',35,'male','Korba')]\n",
    "df = pd.DataFrame(Data,columns=['RollNo','Name','Age','Gender','Address'])\n",
    "print(df)"
   ]
  },
  {
   "cell_type": "code",
   "execution_count": 3,
   "metadata": {},
   "outputs": [
    {
     "name": "stdout",
     "output_type": "stream",
     "text": [
      "   RollNo     Name  Age  Gender   Address\n",
      "0       1    Vikas   31    male    Raipur\n",
      "1       2     Amir   32    male  Bilaspur\n",
      "2       3   Tushar   33    male      Durg\n",
      "3       4    Payal   34  female    Raipur\n",
      "4       5  Prateek   35    male     Korba\n",
      "\n",
      "    RollNo    Name  Age Gender   Address\n",
      "0       1   Vikas   31   male    Raipur\n",
      "1       2    Amir   32   male  Bilaspur\n",
      "2       3  Tushar   33   male      Durg\n"
     ]
    }
   ],
   "source": [
    "print(df.head())\n",
    "print(\"\\n\",df.head(3))"
   ]
  },
  {
   "cell_type": "code",
   "execution_count": 4,
   "metadata": {},
   "outputs": [
    {
     "name": "stdout",
     "output_type": "stream",
     "text": [
      "   RollNo     Name  Age  Gender   Address\n",
      "0       1    Vikas   31    male    Raipur\n",
      "1       2     Amir   32    male  Bilaspur\n",
      "2       3   Tushar   33    male      Durg\n",
      "3       4    Payal   34  female    Raipur\n",
      "4       5  Prateek   35    male     Korba\n",
      "\n",
      "    RollNo     Name  Age  Gender Address\n",
      "2       3   Tushar   33    male    Durg\n",
      "3       4    Payal   34  female  Raipur\n",
      "4       5  Prateek   35    male   Korba\n"
     ]
    }
   ],
   "source": [
    "print(df.tail())\n",
    "print(\"\\n\",df.tail(3))"
   ]
  },
  {
   "cell_type": "code",
   "execution_count": 5,
   "metadata": {},
   "outputs": [
    {
     "name": "stdout",
     "output_type": "stream",
     "text": [
      "Shape: (5, 5)\n",
      "Size: 25\n",
      "RollNo      int64\n",
      "Name       object\n",
      "Age         int64\n",
      "Gender     object\n",
      "Address    object\n",
      "dtype: object\n"
     ]
    }
   ],
   "source": [
    "print(\"Shape:\",df.shape)\n",
    "print(\"Size:\",df.size)\n",
    "print(df.dtypes)"
   ]
  },
  {
   "cell_type": "code",
   "execution_count": 6,
   "metadata": {},
   "outputs": [
    {
     "name": "stdout",
     "output_type": "stream",
     "text": [
      "0    31\n",
      "1    32\n",
      "2    33\n",
      "3    34\n",
      "4    35\n",
      "Name: Age, dtype: int64 0      male\n",
      "1      male\n",
      "2      male\n",
      "3    female\n",
      "4      male\n",
      "Name: Gender, dtype: object\n",
      "\t\n",
      "0    31\n",
      "1    32\n",
      "2    33\n",
      "3    34\n",
      "4    35\n",
      "Name: Age, dtype: int64\n",
      "   Age  Gender  Age\n",
      "0   31    male   31\n",
      "1   32    male   32\n",
      "2   33    male   33\n",
      "3   34  female   34\n",
      "4   35    male   35\n"
     ]
    }
   ],
   "source": [
    "print(df.Age,df.Gender)\n",
    "print('\\t')\n",
    "print(df['Age'])\n",
    "print(df[['Age','Gender','Age']])"
   ]
  },
  {
   "cell_type": "code",
   "execution_count": 7,
   "metadata": {},
   "outputs": [
    {
     "name": "stdout",
     "output_type": "stream",
     "text": [
      "[[1 'Vikas' 31 'male' 'Raipur']\n",
      " [2 'Amir' 32 'male' 'Bilaspur']\n",
      " [3 'Tushar' 33 'male' 'Durg']\n",
      " [4 'Payal' 34 'female' 'Raipur']\n",
      " [5 'Prateek' 35 'male' 'Korba']]\n",
      "RangeIndex(start=0, stop=5, step=1)\n",
      "Index(['RollNo', 'Name', 'Age', 'Gender', 'Address'], dtype='object')\n"
     ]
    }
   ],
   "source": [
    "print(df.values)\n",
    "print(df.index)\n",
    "print(df.columns)"
   ]
  },
  {
   "cell_type": "code",
   "execution_count": 8,
   "metadata": {},
   "outputs": [
    {
     "name": "stdout",
     "output_type": "stream",
     "text": [
      "Index      132\n",
      "RollNo      40\n",
      "Name        40\n",
      "Age         40\n",
      "Gender      40\n",
      "Address     40\n",
      "dtype: int64\n",
      "Dimensions: 2\n"
     ]
    }
   ],
   "source": [
    "print(df.memory_usage())\n",
    "print(\"Dimensions:\",df.ndim)"
   ]
  }
 ],
 "metadata": {
  "kernelspec": {
   "display_name": "Python 3",
   "language": "python",
   "name": "python3"
  },
  "language_info": {
   "codemirror_mode": {
    "name": "ipython",
    "version": 3
   },
   "file_extension": ".py",
   "mimetype": "text/x-python",
   "name": "python",
   "nbconvert_exporter": "python",
   "pygments_lexer": "ipython3",
   "version": "3.12.1"
  }
 },
 "nbformat": 4,
 "nbformat_minor": 2
}
