{
 "cells": [
  {
   "cell_type": "markdown",
   "metadata": {},
   "source": [
    "## Indexing and Slicing:-"
   ]
  },
  {
   "cell_type": "code",
   "execution_count": 1,
   "metadata": {},
   "outputs": [],
   "source": [
    "import numpy as np"
   ]
  },
  {
   "cell_type": "code",
   "execution_count": 2,
   "metadata": {},
   "outputs": [
    {
     "name": "stdout",
     "output_type": "stream",
     "text": [
      "Output: 4\n"
     ]
    }
   ],
   "source": [
    "A = np.array([1,2,3,4,5])\n",
    "print(\"Output:\",A[3])"
   ]
  },
  {
   "cell_type": "code",
   "execution_count": 3,
   "metadata": {},
   "outputs": [
    {
     "name": "stdout",
     "output_type": "stream",
     "text": [
      "Original:\n",
      " [[ 1  2  3  4]\n",
      " [ 9 11  5  3]]\n",
      "Output: 5\n",
      "Output: [ 9 11  5  3]\n",
      "Output:\n",
      " [[ 1  2  3  4]\n",
      " [ 9 11  5  3]]\n",
      "Output:\n",
      " [[ 2  3]\n",
      " [11  5]]\n"
     ]
    }
   ],
   "source": [
    "x = np.array([[1,2,3,4],[9,11,5,3]])\n",
    "print(\"Original:\\n\",x)\n",
    "print(\"Output:\",x[1,2])\n",
    "print(\"Output:\",x[1])\n",
    "print(\"Output:\\n\",x[:,:])\n",
    "print(\"Output:\\n\",x[:,1:3])"
   ]
  },
  {
   "cell_type": "code",
   "execution_count": 4,
   "metadata": {},
   "outputs": [
    {
     "name": "stdout",
     "output_type": "stream",
     "text": [
      "Original:\n",
      " [[[ 0  1  2  3]\n",
      "  [ 4  5  6  7]\n",
      "  [ 8  9 10 11]\n",
      "  [12 13 14 15]]\n",
      "\n",
      " [[16 17 18 19]\n",
      "  [20 21 22 23]\n",
      "  [24 25 26 27]\n",
      "  [28 29 30 31]]\n",
      "\n",
      " [[32 33 34 35]\n",
      "  [36 37 38 39]\n",
      "  [40 41 42 43]\n",
      "  [44 45 46 47]]]\n",
      "Output:\n",
      " [[[ 1  2]\n",
      "  [ 5  6]\n",
      "  [ 9 10]]\n",
      "\n",
      " [[17 18]\n",
      "  [21 22]\n",
      "  [25 26]]\n",
      "\n",
      " [[33 34]\n",
      "  [37 38]\n",
      "  [41 42]]]\n"
     ]
    }
   ],
   "source": [
    "a = np.arange(48).reshape(3,4,4)\n",
    "print(\"Original:\\n\",a)\n",
    "print(\"Output:\\n\",a[0:,0:3,1:3])"
   ]
  },
  {
   "cell_type": "code",
   "execution_count": 5,
   "metadata": {},
   "outputs": [
    {
     "name": "stdout",
     "output_type": "stream",
     "text": [
      "Length of array: 7\n",
      "[2 3 4 5]\n",
      "[5 6 7]\n",
      "[1 2 3 4]\n",
      "[5 6]\n",
      "[2 4]\n",
      "[1 3 5 7]\n",
      "[2 4 6]\n"
     ]
    }
   ],
   "source": [
    "arr = np.array([1,2,3,4,5,6,7])        \n",
    "print(\"Length of array:\",len(arr))\n",
    "print(arr[1:5])\n",
    "print(arr[4:])                    # \"SLICING\"\n",
    "print(arr[:4])                    \n",
    "print(arr[-3:-1])\n",
    "print(arr[1:5:2])\n",
    "print(arr[::2])\n",
    "print(arr[1::2])"
   ]
  },
  {
   "cell_type": "code",
   "execution_count": 6,
   "metadata": {},
   "outputs": [
    {
     "name": "stdout",
     "output_type": "stream",
     "text": [
      "Original:\n",
      " [[ 1  2  3  4  5]\n",
      " [ 6  7  8  9 10]]\n",
      "Output:\n",
      " [7 8 9]\n",
      "Output:\n",
      " [3 8]\n",
      "Output:\n",
      " [[2 3 4]\n",
      " [7 8 9]]\n",
      "Output:\n",
      " [[ 6  7  8  9 10]\n",
      " [ 1  2  3  4  5]]\n",
      "Output:\n",
      " [[ 1  3  5]\n",
      " [ 6  8 10]]\n"
     ]
    }
   ],
   "source": [
    "arr2 = np.array([[1,2,3,4,5],[6,7,8,9,10]])\n",
    "print(\"Original:\\n\",arr2)\n",
    "print(\"Output:\\n\",arr2[1,1:4])\n",
    "print(\"Output:\\n\",arr2[0:2,2])\n",
    "print(\"Output:\\n\",arr2[0:2,1:4])\n",
    "print(\"Output:\\n\",arr2[::-1])\n",
    "print(\"Output:\\n\",arr2[::,::2])"
   ]
  },
  {
   "cell_type": "code",
   "execution_count": 7,
   "metadata": {},
   "outputs": [
    {
     "name": "stdout",
     "output_type": "stream",
     "text": [
      "(2, 3, 4)\n",
      "Original:\n",
      " [[[ 1  2  3  4]\n",
      "  [ 5  6  7  8]\n",
      "  [ 9 10 11 12]]\n",
      "\n",
      " [[13 14 15 16]\n",
      "  [17 18 19 20]\n",
      "  [21 22 23 24]]]\n",
      "Output:\n",
      " [[[ 1]\n",
      "  [ 5]\n",
      "  [ 9]]\n",
      "\n",
      " [[13]\n",
      "  [17]\n",
      "  [21]]]\n",
      "Output:\n",
      " [[[ 5  7]\n",
      "  [ 9 11]]\n",
      "\n",
      " [[17 19]\n",
      "  [21 23]]]\n",
      "Output:\n",
      " [[ 9 10 11 12]\n",
      " [21 22 23 24]]\n",
      "Output:\n",
      " [[[ 1  2  3]]\n",
      "\n",
      " [[13 14 15]]]\n"
     ]
    }
   ],
   "source": [
    "arr3 = np.array([[[1,2,3,4],[5,6,7,8,],[9,10,11,12]],[[13,14,15,16],[17,18,19,20],[21,22,23,24]]])\n",
    "print(arr3.shape)\n",
    "print(\"Original:\\n\",arr3)\n",
    "print(\"Output:\\n\",arr3[:,:,:1])\n",
    "print(\"Output:\\n\",arr3[:,1:,::2])\n",
    "print(\"Output:\\n\",arr3[:,2])\n",
    "print(\"Output:\\n\",arr3[0:2,-3:-2,-4:-1])"
   ]
  }
 ],
 "metadata": {
  "kernelspec": {
   "display_name": "Python 3",
   "language": "python",
   "name": "python3"
  },
  "language_info": {
   "codemirror_mode": {
    "name": "ipython",
    "version": 3
   },
   "file_extension": ".py",
   "mimetype": "text/x-python",
   "name": "python",
   "nbconvert_exporter": "python",
   "pygments_lexer": "ipython3",
   "version": "3.12.1"
  }
 },
 "nbformat": 4,
 "nbformat_minor": 2
}
