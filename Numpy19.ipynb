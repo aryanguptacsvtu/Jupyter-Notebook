{
 "cells": [
  {
   "cell_type": "markdown",
   "metadata": {},
   "source": [
    "**Splitting Array:-**"
   ]
  },
  {
   "cell_type": "code",
   "execution_count": 1,
   "metadata": {},
   "outputs": [],
   "source": [
    "import numpy as np"
   ]
  },
  {
   "cell_type": "code",
   "execution_count": 2,
   "metadata": {},
   "outputs": [
    {
     "name": "stdout",
     "output_type": "stream",
     "text": [
      "[array([1, 2]), array([3, 4]), array([5, 6])]\n"
     ]
    }
   ],
   "source": [
    "arr  =np.array([1,2,3,4,5,6])\n",
    "print(np.split(arr,3))"
   ]
  },
  {
   "cell_type": "code",
   "execution_count": 3,
   "metadata": {},
   "outputs": [
    {
     "name": "stdout",
     "output_type": "stream",
     "text": [
      "[array([1, 2]), array([3, 4]), array([5]), array([6])]\n",
      "[array([1]), array([2]), array([3]), array([4]), array([5]), array([6]), array([], dtype=int32)]\n"
     ]
    }
   ],
   "source": [
    "arr  =np.array([1,2,3,4,5,6])\n",
    "print(np.array_split(arr,4))\n",
    "print(np.array_split(arr,7))"
   ]
  },
  {
   "cell_type": "code",
   "execution_count": 4,
   "metadata": {},
   "outputs": [
    {
     "name": "stdout",
     "output_type": "stream",
     "text": [
      "[1 2]\n",
      "[3 4]\n",
      "[5 6]\n"
     ]
    }
   ],
   "source": [
    "arr  =np.array([1,2,3,4,5,6])\n",
    "newArr = np.array_split(arr,3)\n",
    "print(newArr[0])\n",
    "print(newArr[1])\n",
    "print(newArr[2])"
   ]
  },
  {
   "cell_type": "code",
   "execution_count": 5,
   "metadata": {},
   "outputs": [
    {
     "name": "stdout",
     "output_type": "stream",
     "text": [
      "(6, 2)\n",
      "[array([1, 2]), array([3, 4]), array([5, 6])]\n",
      "\n",
      " [array([[1, 2],\n",
      "       [3, 4]]), array([[5, 6],\n",
      "       [7, 8]]), array([[ 9, 10],\n",
      "       [11, 12]])]\n",
      "V Split:\n",
      " [array([[1, 2],\n",
      "       [3, 4],\n",
      "       [5, 6]]), array([[ 7,  8],\n",
      "       [ 9, 10],\n",
      "       [11, 12]])]\n",
      "H Split:\n",
      " [array([[ 1],\n",
      "       [ 3],\n",
      "       [ 5],\n",
      "       [ 7],\n",
      "       [ 9],\n",
      "       [11]]), array([[ 2],\n",
      "       [ 4],\n",
      "       [ 6],\n",
      "       [ 8],\n",
      "       [10],\n",
      "       [12]])]\n"
     ]
    }
   ],
   "source": [
    "a = np.array([[1,2],[3,4],[5,6],[7,8],[9,10],[11,12]])\n",
    "print(np.shape(a))\n",
    "print(np.array_split(arr,3))\n",
    "print(\"\\n\",np.split(a,3))\n",
    "print(\"V Split:\\n\",np.vsplit(a,2))\n",
    "print(\"H Split:\\n\",np.hsplit(a,2))"
   ]
  },
  {
   "cell_type": "code",
   "execution_count": 6,
   "metadata": {},
   "outputs": [
    {
     "name": "stdout",
     "output_type": "stream",
     "text": [
      "[[ 1  2  3]\n",
      " [ 4  5  6]\n",
      " [ 7  8  9]\n",
      " [10 11 12]\n",
      " [13 14 15]\n",
      " [16 17 18]]\n",
      "Axis1: [array([[ 1],\n",
      "       [ 4],\n",
      "       [ 7],\n",
      "       [10],\n",
      "       [13],\n",
      "       [16]]), array([[ 2],\n",
      "       [ 5],\n",
      "       [ 8],\n",
      "       [11],\n",
      "       [14],\n",
      "       [17]]), array([[ 3],\n",
      "       [ 6],\n",
      "       [ 9],\n",
      "       [12],\n",
      "       [15],\n",
      "       [18]])]\n",
      "Axis0: [array([[1, 2, 3],\n",
      "       [4, 5, 6]]), array([[ 7,  8,  9],\n",
      "       [10, 11, 12]]), array([[13, 14, 15],\n",
      "       [16, 17, 18]])]\n",
      "V Split:\n",
      " [array([[1, 2, 3],\n",
      "       [4, 5, 6]]), array([[ 7,  8,  9],\n",
      "       [10, 11, 12]]), array([[13, 14, 15],\n",
      "       [16, 17, 18]])]\n",
      "H Split:\n",
      " [array([[ 1],\n",
      "       [ 4],\n",
      "       [ 7],\n",
      "       [10],\n",
      "       [13],\n",
      "       [16]]), array([[ 2],\n",
      "       [ 5],\n",
      "       [ 8],\n",
      "       [11],\n",
      "       [14],\n",
      "       [17]]), array([[ 3],\n",
      "       [ 6],\n",
      "       [ 9],\n",
      "       [12],\n",
      "       [15],\n",
      "       [18]])]\n"
     ]
    }
   ],
   "source": [
    "x = np.array([[1,2,3],[4,5,6],[7,8,9],[10,11,12],[13,14,15],[16,17,18]])\n",
    "print(x)\n",
    "print(\"Axis1:\",np.array_split(x,3,axis=1))\n",
    "print(\"Axis0:\",np.array_split(x,3,axis=0))\n",
    "print(\"V Split:\\n\",np.vsplit(x,3))\n",
    "print(\"H Split:\\n\",np.hsplit(x,3))"
   ]
  },
  {
   "cell_type": "code",
   "execution_count": 7,
   "metadata": {},
   "outputs": [
    {
     "name": "stdout",
     "output_type": "stream",
     "text": [
      "[[[ 1  2  3]\n",
      "  [ 4  5  6]]\n",
      "\n",
      " [[ 7  8  9]\n",
      "  [10 11 12]]\n",
      "\n",
      " [[13 14 15]\n",
      "  [16 17 18]]]\n",
      "[array([[[1, 2, 3],\n",
      "        [4, 5, 6]]]), array([[[ 7,  8,  9],\n",
      "        [10, 11, 12]]]), array([[[13, 14, 15],\n",
      "        [16, 17, 18]]])]\n",
      "[array([[[ 1,  2,  3]],\n",
      "\n",
      "       [[ 7,  8,  9]],\n",
      "\n",
      "       [[13, 14, 15]]]), array([[[ 4,  5,  6]],\n",
      "\n",
      "       [[10, 11, 12]],\n",
      "\n",
      "       [[16, 17, 18]]]), array([], shape=(3, 0, 3), dtype=int32)]\n",
      "[array([[[ 1,  2],\n",
      "        [ 4,  5]],\n",
      "\n",
      "       [[ 7,  8],\n",
      "        [10, 11]],\n",
      "\n",
      "       [[13, 14],\n",
      "        [16, 17]]]), array([[[ 3],\n",
      "        [ 6]],\n",
      "\n",
      "       [[ 9],\n",
      "        [12]],\n",
      "\n",
      "       [[15],\n",
      "        [18]]]), array([], shape=(3, 2, 0), dtype=int32)]\n"
     ]
    }
   ],
   "source": [
    "p = np.arange(1,19).reshape(3,2,3)\n",
    "print(p)\n",
    "print(np.array_split(p,3,axis=0))\n",
    "print(np.array_split(p,3,axis=1))\n",
    "print(np.dsplit(p,[2,3]))"
   ]
  }
 ],
 "metadata": {
  "kernelspec": {
   "display_name": "Python 3",
   "language": "python",
   "name": "python3"
  },
  "language_info": {
   "codemirror_mode": {
    "name": "ipython",
    "version": 3
   },
   "file_extension": ".py",
   "mimetype": "text/x-python",
   "name": "python",
   "nbconvert_exporter": "python",
   "pygments_lexer": "ipython3",
   "version": "3.12.1"
  }
 },
 "nbformat": 4,
 "nbformat_minor": 2
}
