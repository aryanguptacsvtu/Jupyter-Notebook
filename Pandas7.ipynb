{
 "cells": [
  {
   "cell_type": "markdown",
   "metadata": {},
   "source": [
    "**\"Indexing and Selecting Data\":-**"
   ]
  },
  {
   "cell_type": "code",
   "execution_count": 1,
   "metadata": {},
   "outputs": [],
   "source": [
    "import pandas as pd"
   ]
  },
  {
   "cell_type": "code",
   "execution_count": 2,
   "metadata": {},
   "outputs": [
    {
     "name": "stdout",
     "output_type": "stream",
     "text": [
      "   RollNo     Name  Age  Gender   Address\n",
      "0       1    Vikas   31    male    Raipur\n",
      "1       2     Amir   32    male  Bilaspur\n",
      "2       3   Tushar   33    male      Durg\n",
      "3       4    Payal   34  female    Raipur\n",
      "4       5  Prateek   35    male     Korba\n"
     ]
    }
   ],
   "source": [
    "Data = [(1,'Vikas',31,'male','Raipur'),\n",
    "        (2,'Amir',32,'male','Bilaspur'),\n",
    "        (3,'Tushar',33,'male','Durg'),\n",
    "        (4,'Payal',34,'female','Raipur'),\n",
    "        (5,'Prateek',35,'male','Korba')]\n",
    "df = pd.DataFrame(Data,columns=['RollNo','Name','Age','Gender','Address'])\n",
    "print(df)"
   ]
  },
  {
   "cell_type": "code",
   "execution_count": 3,
   "metadata": {},
   "outputs": [
    {
     "name": "stdout",
     "output_type": "stream",
     "text": [
      "34\n",
      "Durg\n",
      "Vikas\n",
      "33\n",
      "Prateek\n",
      "male\n"
     ]
    }
   ],
   "source": [
    "print(df.at[3,'Age'])\n",
    "print(df.at[2,'Address'])\n",
    "print(df.at[0,'Name'])\n",
    "print(df.iat[2,2])\n",
    "print(df.iat[4,1])\n",
    "print(df.iat[1,3])"
   ]
  },
  {
   "cell_type": "code",
   "execution_count": 4,
   "metadata": {},
   "outputs": [
    {
     "name": "stdout",
     "output_type": "stream",
     "text": [
      "0    31\n",
      "1    32\n",
      "2    33\n",
      "3    34\n",
      "4    35\n",
      "Name: Age, dtype: int64\n",
      "2    33\n",
      "3    34\n",
      "4    35\n",
      "Name: Age, dtype: int64\n",
      "1    32\n",
      "2    33\n",
      "3    34\n",
      "Name: Age, dtype: int64\n"
     ]
    }
   ],
   "source": [
    "print(df.loc[:,\"Age\"])\n",
    "print(df.loc[2:,\"Age\"])\n",
    "print(df.loc[1:3,\"Age\"])"
   ]
  },
  {
   "cell_type": "code",
   "execution_count": 5,
   "metadata": {},
   "outputs": [
    {
     "name": "stdout",
     "output_type": "stream",
     "text": [
      "RollNo          1\n",
      "Name        Vikas\n",
      "Age            31\n",
      "Gender       male\n",
      "Address    Raipur\n",
      "Name: 0, dtype: object\n",
      "   RollNo    Name  Age  Gender Address\n",
      "0       1   Vikas   31    male  Raipur\n",
      "2       3  Tushar   33    male    Durg\n",
      "3       4   Payal   34  female  Raipur\n",
      "\t\n",
      "   RollNo    Name  Age  Gender   Address\n",
      "1       2    Amir   32    male  Bilaspur\n",
      "2       3  Tushar   33    male      Durg\n",
      "3       4   Payal   34  female    Raipur\n"
     ]
    }
   ],
   "source": [
    "print(df.loc[0])        # Selecting a Single Row\n",
    "print(df.loc[[0,2,3]])  # Selecting Multiple Rows\n",
    "print(\"\\t\")\n",
    "print(df.loc[1:3])      # Selecting Rows by Range"
   ]
  },
  {
   "cell_type": "code",
   "execution_count": 6,
   "metadata": {},
   "outputs": [
    {
     "name": "stdout",
     "output_type": "stream",
     "text": [
      "RollNo            2\n",
      "Name           Amir\n",
      "Age              32\n",
      "Gender         male\n",
      "Address    Bilaspur\n",
      "Name: 1, dtype: object\n",
      "   RollNo    Name  Age Gender   Address\n",
      "0       1   Vikas   31   male    Raipur\n",
      "1       2    Amir   32   male  Bilaspur\n",
      "2       3  Tushar   33   male      Durg\n"
     ]
    }
   ],
   "source": [
    "print(df.iloc[1])\n",
    "print(df.iloc[0:3])\n",
    "# print(df.iloc[0:'Age']) {INVALID}"
   ]
  },
  {
   "cell_type": "code",
   "execution_count": 7,
   "metadata": {},
   "outputs": [
    {
     "name": "stdout",
     "output_type": "stream",
     "text": [
      "   RollNo     Name  Age  Gender Address\n",
      "2       3   Tushar   33    male    Durg\n",
      "3       4    Payal   34  female  Raipur\n",
      "4       5  Prateek   35    male   Korba\n",
      "   RollNo  Name  Age Gender   Address\n",
      "1       2  Amir   32   male  Bilaspur\n"
     ]
    }
   ],
   "source": [
    "# Filtering Rows:-\n",
    "print(df[df['Age']>32])\n",
    "print(df[df['Name']=='Amir'])"
   ]
  },
  {
   "cell_type": "markdown",
   "metadata": {},
   "source": [
    "**\"INSERTION\":-**"
   ]
  },
  {
   "cell_type": "code",
   "execution_count": 8,
   "metadata": {},
   "outputs": [
    {
     "name": "stdout",
     "output_type": "stream",
     "text": [
      "   RollNo     Name  Age  Gender   Address  MobileNo\n",
      "0       1    Vikas   31    male    Raipur       101\n",
      "1       2     Amir   32    male  Bilaspur       203\n",
      "2       3   Tushar   33    male      Durg       303\n",
      "3       4    Payal   34  female    Raipur       440\n",
      "4       5  Prateek   35    male     Korba       560\n"
     ]
    }
   ],
   "source": [
    "# Adding new Column to Dataframe:-\n",
    "df['MobileNo']=[101,203,303,440,560]\n",
    "print(df)"
   ]
  },
  {
   "cell_type": "code",
   "execution_count": 9,
   "metadata": {},
   "outputs": [
    {
     "name": "stdout",
     "output_type": "stream",
     "text": [
      "   RollNo     Name  Age  Gender   Address  MobileNo  BranchCode\n",
      "0       1    Vikas   31    male    Raipur       101          22\n",
      "1       2     Amir   32    male  Bilaspur       203          22\n",
      "2       3   Tushar   33    male      Durg       303          22\n",
      "3       4    Payal   34  female    Raipur       440          22\n",
      "4       5  Prateek   35    male     Korba       560          22\n"
     ]
    }
   ],
   "source": [
    "# Adding new Column to Dataframe by assigning Same Value:-\n",
    "df['BranchCode']=22\n",
    "print(df)"
   ]
  },
  {
   "cell_type": "code",
   "execution_count": 10,
   "metadata": {},
   "outputs": [],
   "source": [
    "# Adding new Column to Dataframe in a particular location:-\n",
    "df.insert(1, \"newcol\", [99,58,33,11,55])"
   ]
  },
  {
   "cell_type": "code",
   "execution_count": 11,
   "metadata": {},
   "outputs": [
    {
     "name": "stdout",
     "output_type": "stream",
     "text": [
      "   RollNo  newcol     Name  Age  Gender   Address  MobileNo  BranchCode\n",
      "0       1      99    Vikas   31    male    Raipur       101          22\n",
      "1       2      58     Amir   32    male  Bilaspur       203          22\n",
      "2       3      33   Tushar   33    male      Durg       303          22\n",
      "3       4      11    Payal   34  female    Raipur       440          22\n",
      "4       5      55  Prateek   35    male     Korba       560          22\n"
     ]
    }
   ],
   "source": [
    "print(df)"
   ]
  },
  {
   "cell_type": "code",
   "execution_count": 12,
   "metadata": {},
   "outputs": [
    {
     "name": "stdout",
     "output_type": "stream",
     "text": [
      "   RollNo     Name  Age  Gender   Address\n",
      "0       1    Vikas   31    male    Raipur\n",
      "1       2     Amir   32    male  Bilaspur\n",
      "2       3   Tushar   33    male      Durg\n",
      "3       4    Payal   34  female    Raipur\n",
      "4       5  Prateek   35    male     Korba\n"
     ]
    }
   ],
   "source": [
    "Data = [(1,'Vikas',31,'male','Raipur'),\n",
    "        (2,'Amir',32,'male','Bilaspur'),\n",
    "        (3,'Tushar',33,'male','Durg'),\n",
    "        (4,'Payal',34,'female','Raipur'),\n",
    "        (5,'Prateek',35,'male','Korba')]\n",
    "df2 = pd.DataFrame(Data,columns=['RollNo','Name','Age','Gender','Address'])\n",
    "print(df2)"
   ]
  },
  {
   "cell_type": "code",
   "execution_count": 13,
   "metadata": {},
   "outputs": [
    {
     "name": "stdout",
     "output_type": "stream",
     "text": [
      "   RollNo     Name  Age  Gender   Address\n",
      "0       1    Vikas   31    male    Raipur\n",
      "1       2     Amir   32    male  Bilaspur\n",
      "2       3   Tushar   33    male      Durg\n",
      "3       4    Payal   34  female    Raipur\n",
      "4       5  Prateek   35    male     Korba\n",
      "7      15   Anjali   25  female   Raigarh\n"
     ]
    }
   ],
   "source": [
    "# Adding new Row to Dataframe in a particular location:-\n",
    "df2.loc[7]=[15,'Anjali',25,'female','Raigarh']\n",
    "print(df2)"
   ]
  },
  {
   "cell_type": "markdown",
   "metadata": {},
   "source": [
    "**\"Deletion\":-**"
   ]
  },
  {
   "cell_type": "code",
   "execution_count": 14,
   "metadata": {},
   "outputs": [
    {
     "name": "stdout",
     "output_type": "stream",
     "text": [
      "   RollNo  newcol     Name  Age  Gender   Address  BranchCode\n",
      "0       1      99    Vikas   31    male    Raipur          22\n",
      "1       2      58     Amir   32    male  Bilaspur          22\n",
      "2       3      33   Tushar   33    male      Durg          22\n",
      "3       4      11    Payal   34  female    Raipur          22\n",
      "4       5      55  Prateek   35    male     Korba          22\n"
     ]
    }
   ],
   "source": [
    "# Deleting a column from Dataframe:-\n",
    "df = df.drop(columns=['MobileNo'])\n",
    "print(df)"
   ]
  },
  {
   "cell_type": "code",
   "execution_count": 15,
   "metadata": {},
   "outputs": [
    {
     "name": "stdout",
     "output_type": "stream",
     "text": [
      "   RollNo  newcol     Name  Age   Address\n",
      "0       1      99    Vikas   31    Raipur\n",
      "1       2      58     Amir   32  Bilaspur\n",
      "2       3      33   Tushar   33      Durg\n",
      "3       4      11    Payal   34    Raipur\n",
      "4       5      55  Prateek   35     Korba\n"
     ]
    }
   ],
   "source": [
    "# Deleting multiple columns from Dataframe:-\n",
    "df =df.drop(columns=['Gender','BranchCode'])\n",
    "print(df)"
   ]
  },
  {
   "cell_type": "code",
   "execution_count": 16,
   "metadata": {},
   "outputs": [
    {
     "name": "stdout",
     "output_type": "stream",
     "text": [
      "   RollNo  newcol     Name   Address\n",
      "0       1      99    Vikas    Raipur\n",
      "1       2      58     Amir  Bilaspur\n",
      "2       3      33   Tushar      Durg\n",
      "3       4      11    Payal    Raipur\n",
      "4       5      55  Prateek     Korba\n"
     ]
    }
   ],
   "source": [
    "# Deleting column from Dataframe using 'del':-\n",
    "del df['Age']\n",
    "print(df)"
   ]
  },
  {
   "cell_type": "code",
   "execution_count": 17,
   "metadata": {},
   "outputs": [
    {
     "name": "stdout",
     "output_type": "stream",
     "text": [
      "   RollNo    Name  Age  Gender   Address\n",
      "0       1   Vikas   31    male    Raipur\n",
      "1       2    Amir   32    male  Bilaspur\n",
      "2       3  Tushar   33    male      Durg\n",
      "3       4   Payal   34  female    Raipur\n",
      "7      15  Anjali   25  female   Raigarh\n"
     ]
    }
   ],
   "source": [
    "# Deleting Particular row:-\n",
    "df2 = df2.drop(4)\n",
    "print(df2)"
   ]
  },
  {
   "cell_type": "code",
   "execution_count": 18,
   "metadata": {},
   "outputs": [
    {
     "name": "stdout",
     "output_type": "stream",
     "text": [
      "   RollNo    Name  Age  Gender  Address\n",
      "0       1   Vikas   31    male   Raipur\n",
      "2       3  Tushar   33    male     Durg\n",
      "7      15  Anjali   25  female  Raigarh\n"
     ]
    }
   ],
   "source": [
    "# Deleting multiple rows:-\n",
    "df2 = df2.drop([1,3])\n",
    "print(df2)"
   ]
  },
  {
   "cell_type": "code",
   "execution_count": 19,
   "metadata": {},
   "outputs": [
    {
     "name": "stdout",
     "output_type": "stream",
     "text": [
      "   RollNo  newcol     Name Address\n",
      "0       1      99    Vikas  Raipur\n",
      "3       4      11    Payal  Raipur\n",
      "4       5      55  Prateek   Korba\n"
     ]
    }
   ],
   "source": [
    "# Deleting multiple rows by using Slicing:-\n",
    "df = df.drop(df.index[1:3])\n",
    "print(df)             # \"inplace=False\" {Default}"
   ]
  },
  {
   "cell_type": "code",
   "execution_count": 20,
   "metadata": {},
   "outputs": [
    {
     "name": "stdout",
     "output_type": "stream",
     "text": [
      "   RollNo  newcol   Name Address\n",
      "0       1      99  Vikas  Raipur\n"
     ]
    }
   ],
   "source": [
    "# Deleting multiple rows by using Slicing:-\n",
    "df.drop(df.index[1:3],inplace=True)\n",
    "print(df)            "
   ]
  },
  {
   "cell_type": "markdown",
   "metadata": {},
   "source": [
    "**\"Renaming & Updating\":-**"
   ]
  },
  {
   "cell_type": "code",
   "execution_count": 21,
   "metadata": {},
   "outputs": [
    {
     "name": "stdout",
     "output_type": "stream",
     "text": [
      "   RollNo    Name  StudentAge  Gender  Address\n",
      "0       1   Vikas          31    male   Raipur\n",
      "2       3  Tushar          33    male     Durg\n",
      "7      15  Anjali          25  female  Raigarh\n"
     ]
    }
   ],
   "source": [
    "# Renaming a column:-\n",
    "df2 = df2.rename(columns={'Age':'StudentAge'})\n",
    "print(df2)"
   ]
  },
  {
   "cell_type": "code",
   "execution_count": 22,
   "metadata": {},
   "outputs": [
    {
     "name": "stdout",
     "output_type": "stream",
     "text": [
      "   RollNo StudentName  StudentAge  Gender  Address\n",
      "0       1       Vikas          31    male   Raipur\n",
      "2       3      Tushar          33    male     Durg\n",
      "7      15      Anjali          25  female  Raigarh\n"
     ]
    }
   ],
   "source": [
    "# Renaming multiple columns:-\n",
    "df2 = df2.rename(columns={'Age':'StudentAge','Name':'StudentName'})\n",
    "print(df2)"
   ]
  },
  {
   "cell_type": "code",
   "execution_count": 23,
   "metadata": {},
   "outputs": [
    {
     "name": "stdout",
     "output_type": "stream",
     "text": [
      "   RollNo StudentName  StudentAge  Gender  Address\n",
      "0       1       Vikas          31    male   Raipur\n",
      "2       3      Tushar          33    male     Durg\n",
      "7      60      Anjali          25  female  Raigarh\n"
     ]
    }
   ],
   "source": [
    "# Updating single Value:-\n",
    "df2.loc[7,'RollNo']=60\n",
    "print(df2)"
   ]
  },
  {
   "cell_type": "code",
   "execution_count": 24,
   "metadata": {},
   "outputs": [
    {
     "name": "stdout",
     "output_type": "stream",
     "text": [
      "   RollNo StudentName  StudentAge  Gender  Address\n",
      "0       1       Vikas          31    male    Surat\n",
      "2       3      Tushar          33    male   Jaipur\n",
      "7      60      Anjali          25  female  Raigarh\n"
     ]
    }
   ],
   "source": [
    "# Updating multiple Values:-\n",
    "df2.loc[[0,2],'Address']= ['Surat','Jaipur']\n",
    "print(df2)"
   ]
  }
 ],
 "metadata": {
  "kernelspec": {
   "display_name": "Python 3",
   "language": "python",
   "name": "python3"
  },
  "language_info": {
   "codemirror_mode": {
    "name": "ipython",
    "version": 3
   },
   "file_extension": ".py",
   "mimetype": "text/x-python",
   "name": "python",
   "nbconvert_exporter": "python",
   "pygments_lexer": "ipython3",
   "version": "3.12.1"
  }
 },
 "nbformat": 4,
 "nbformat_minor": 2
}
