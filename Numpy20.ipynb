{
 "cells": [
  {
   "cell_type": "markdown",
   "metadata": {},
   "source": [
    "**Joining Arrays:-**"
   ]
  },
  {
   "cell_type": "code",
   "execution_count": 1,
   "metadata": {},
   "outputs": [],
   "source": [
    "import numpy as np"
   ]
  },
  {
   "cell_type": "code",
   "execution_count": 2,
   "metadata": {},
   "outputs": [
    {
     "name": "stdout",
     "output_type": "stream",
     "text": [
      "Concatenated: [ 1  3  5  7  9  2  4  6  8 10]\n",
      "[[ 1  3  5  7  9]\n",
      " [ 2  4  6  8 10]]\n",
      "[[ 1  2]\n",
      " [ 3  4]\n",
      " [ 5  6]\n",
      " [ 7  8]\n",
      " [ 9 10]]\n"
     ]
    }
   ],
   "source": [
    "a1 = np.array([1,3,5,7,9])\n",
    "a2 = np.array([2,4,6,8,10])\n",
    "print(\"Concatenated:\",np.concatenate((a1,a2)))\n",
    "print(np.stack((a1,a2),axis=0))\n",
    "print(np.stack((a1,a2),axis=1))"
   ]
  },
  {
   "cell_type": "code",
   "execution_count": 3,
   "metadata": {},
   "outputs": [
    {
     "name": "stdout",
     "output_type": "stream",
     "text": [
      "H Stack: [ 1  3  5  7  9  2  4  6  8 10]\n",
      "V Stack:\n",
      " [[ 1  3  5  7  9]\n",
      " [ 2  4  6  8 10]]\n",
      "D Stack:\n",
      " [[[ 1  2]\n",
      "  [ 3  4]\n",
      "  [ 5  6]\n",
      "  [ 7  8]\n",
      "  [ 9 10]]]\n"
     ]
    }
   ],
   "source": [
    "print(\"H Stack:\",np.hstack((a1,a2)))      # Stacking along 'Rows'\n",
    "print(\"V Stack:\\n\",np.vstack((a1,a2)))    # Stacking along 'Colummn'\n",
    "print(\"D Stack:\\n\",np.dstack((a1,a2)))    # Stacking along 'Height'"
   ]
  },
  {
   "cell_type": "code",
   "execution_count": 4,
   "metadata": {},
   "outputs": [
    {
     "name": "stdout",
     "output_type": "stream",
     "text": [
      "Array x:\n",
      " [[ 1  3  5  7]\n",
      " [ 9 11 13 15]\n",
      " [17 19 21 23]]\n",
      "Array y:\n",
      " [[ 2  4  6  8]\n",
      " [10 12 14 16]\n",
      " [18 20 22 24]]\n",
      "Concatenated:\n",
      " [[ 1  3  5  7  2  4  6  8]\n",
      " [ 9 11 13 15 10 12 14 16]\n",
      " [17 19 21 23 18 20 22 24]]\n",
      "H stack:\n",
      " [[ 1  3  5  7  2  4  6  8]\n",
      " [ 9 11 13 15 10 12 14 16]\n",
      " [17 19 21 23 18 20 22 24]]\n",
      "D stack:\n",
      " [[[ 1  2]\n",
      "  [ 3  4]\n",
      "  [ 5  6]\n",
      "  [ 7  8]]\n",
      "\n",
      " [[ 9 10]\n",
      "  [11 12]\n",
      "  [13 14]\n",
      "  [15 16]]\n",
      "\n",
      " [[17 18]\n",
      "  [19 20]\n",
      "  [21 22]\n",
      "  [23 24]]]\n"
     ]
    }
   ],
   "source": [
    "x = np.arange(1,25,2).reshape(3,4)\n",
    "y = np.arange(2,26,2).reshape(3,4)\n",
    "print(\"Array x:\\n\",x)\n",
    "print(\"Array y:\\n\",y)\n",
    "print(\"Concatenated:\\n\",np.concatenate((x,y),axis=1))\n",
    "print(\"H stack:\\n\",np.hstack((x,y)))\n",
    "print(\"D stack:\\n\",np.dstack((x,y)))"
   ]
  }
 ],
 "metadata": {
  "kernelspec": {
   "display_name": "Python 3",
   "language": "python",
   "name": "python3"
  },
  "language_info": {
   "codemirror_mode": {
    "name": "ipython",
    "version": 3
   },
   "file_extension": ".py",
   "mimetype": "text/x-python",
   "name": "python",
   "nbconvert_exporter": "python",
   "pygments_lexer": "ipython3",
   "version": "3.12.1"
  }
 },
 "nbformat": 4,
 "nbformat_minor": 2
}
