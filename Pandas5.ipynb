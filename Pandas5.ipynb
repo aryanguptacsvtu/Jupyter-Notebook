{
 "cells": [
  {
   "cell_type": "markdown",
   "metadata": {},
   "source": [
    "**\"Creating Dataframe\":-**"
   ]
  },
  {
   "cell_type": "code",
   "execution_count": 1,
   "metadata": {},
   "outputs": [],
   "source": [
    "import pandas as pd"
   ]
  },
  {
   "cell_type": "code",
   "execution_count": 2,
   "metadata": {},
   "outputs": [
    {
     "name": "stdout",
     "output_type": "stream",
     "text": [
      "    ID    Name  Age\n",
      "0  100  Ramesh   30\n",
      "1  102   Vikas   32\n",
      "2  200  Mahesh   35\n",
      "3  201    Raju   37\n"
     ]
    }
   ],
   "source": [
    "EmployeeDB = {\n",
    "        \"ID\":[100,102,200,201],\n",
    "        \"Name\":['Ramesh','Vikas','Mahesh','Raju'],\n",
    "        \"Age\":[30,32,35,37]\n",
    "        }\n",
    "EmpData = pd.DataFrame(EmployeeDB)\n",
    "print(EmpData)"
   ]
  },
  {
   "cell_type": "code",
   "execution_count": 3,
   "metadata": {},
   "outputs": [
    {
     "name": "stdout",
     "output_type": "stream",
     "text": [
      "    Name  Age\n",
      "A  Bunty   30\n"
     ]
    }
   ],
   "source": [
    "M = {'Name':'Bunty','Age':30}        # Here,mandatory to provide index\n",
    "Emp1 = pd.DataFrame(M , index =['A'])\n",
    "print(Emp1)"
   ]
  },
  {
   "cell_type": "code",
   "execution_count": 4,
   "metadata": {},
   "outputs": [
    {
     "name": "stdout",
     "output_type": "stream",
     "text": [
      "    Name  Age\n",
      "0  Bunty   30\n"
     ]
    }
   ],
   "source": [
    "M = {'Name':['Bunty'],'Age':[30]}   # If you don't want to give index\n",
    "Emp1 = pd.DataFrame(M)\n",
    "print(Emp1)"
   ]
  },
  {
   "cell_type": "code",
   "execution_count": 5,
   "metadata": {},
   "outputs": [
    {
     "name": "stdout",
     "output_type": "stream",
     "text": [
      "<class 'pandas.core.frame.DataFrame'>\n",
      "Empty DataFrame\n",
      "Columns: []\n",
      "Index: []\n"
     ]
    }
   ],
   "source": [
    "df = pd.DataFrame()         # Creating Empty Dataframe\n",
    "print(type(df))\n",
    "print(df)"
   ]
  },
  {
   "cell_type": "code",
   "execution_count": 6,
   "metadata": {},
   "outputs": [
    {
     "name": "stdout",
     "output_type": "stream",
     "text": [
      "Empty DataFrame\n",
      "Columns: [Id, Name, Age]\n",
      "Index: []\n",
      "\t\n",
      "    Id  Name Age\n",
      "0  100  Arun  22\n"
     ]
    }
   ],
   "source": [
    "colData = ['Id','Name','Age']\n",
    "df = pd.DataFrame(columns=colData)\n",
    "print(df)\n",
    "print('\\t')\n",
    "\n",
    "row1 ={'Id':100,'Name':'Arun','Age':22}\n",
    "df = df._append(row1,ignore_index=True)\n",
    "print(df)"
   ]
  },
  {
   "cell_type": "code",
   "execution_count": 7,
   "metadata": {},
   "outputs": [
    {
     "name": "stdout",
     "output_type": "stream",
     "text": [
      "   A  B\n",
      "0  2  3\n",
      "1  3  4\n",
      "2  4  5\n",
      "3  5  6\n"
     ]
    }
   ],
   "source": [
    "df1 = pd.DataFrame([[2,3],[3,4],[4,5],[5,6]],columns=list('AB'))\n",
    "print(df1)      # Creating Dataframe using 'List'"
   ]
  },
  {
   "cell_type": "code",
   "execution_count": 8,
   "metadata": {},
   "outputs": [
    {
     "name": "stdout",
     "output_type": "stream",
     "text": [
      "    Name  Marks\n",
      "1  ankit     12\n",
      "2   aadi     23\n"
     ]
    }
   ],
   "source": [
    "sample = {\"Name\":['ankit','aadi'],'Marks':[12 ,23]}\n",
    "df2 = pd.DataFrame(sample,index =[1,2])\n",
    "print(df2)      # Creating Dataframe using 'Dictionary'"
   ]
  },
  {
   "cell_type": "code",
   "execution_count": 9,
   "metadata": {},
   "outputs": [
    {
     "name": "stdout",
     "output_type": "stream",
     "text": [
      "   One  Two\n",
      "a   10  100\n",
      "b   20  200\n",
      "c   30  300\n"
     ]
    }
   ],
   "source": [
    "d = {'One':pd.Series([10,20,30],index =['a','b','c']),\n",
    "     'Two':pd.Series([100,200,300],index =['a','b','c'])}\n",
    "df3 = pd.DataFrame(d)\n",
    "print(df3)      # Creating Dataframe using 'Series'"
   ]
  },
  {
   "cell_type": "code",
   "execution_count": 10,
   "metadata": {},
   "outputs": [
    {
     "name": "stdout",
     "output_type": "stream",
     "text": [
      "  Name  Marks\n",
      "1  Anu     19\n",
      "2  Sia     25\n"
     ]
    }
   ],
   "source": [
    "# Writing Dataframe to CSV file:-\n",
    "info = {'Name':['Anu','Sia'],'Marks':[19,25]}\n",
    "x = pd.DataFrame(info , index=[1,2])\n",
    "print(x)\n",
    "x.to_csv('Student.csv')"
   ]
  },
  {
   "cell_type": "code",
   "execution_count": 11,
   "metadata": {},
   "outputs": [
    {
     "name": "stdout",
     "output_type": "stream",
     "text": [
      "   Unnamed: 0 Name  Marks\n",
      "0           1  Anu     19\n",
      "1           2  Sia     25\n"
     ]
    }
   ],
   "source": [
    "# Reading Data from CSV file:-\n",
    "data = pd.read_csv('Student.csv')\n",
    "print(data)"
   ]
  },
  {
   "cell_type": "code",
   "execution_count": 12,
   "metadata": {},
   "outputs": [
    {
     "name": "stdout",
     "output_type": "stream",
     "text": [
      "      0     1\n",
      "0  1000  2000\n",
      "1     A     B\n",
      "2  2300  3500\n",
      "(3, 2) 6\n",
      "\t\n",
      "ROW: 0 COLUMN: 1000 2000 \n",
      "ROW: 1 COLUMN: A B \n",
      "ROW: 2 COLUMN: 2300 3500 \n"
     ]
    }
   ],
   "source": [
    "# Iteration in DataFrame:-\n",
    "Data= [[1000,2000],['A','B'],[2300,3500]]\n",
    "z = pd.DataFrame(Data)\n",
    "print(z)\n",
    "print(z.shape , z.size)\n",
    "print('\\t')\n",
    "\n",
    "for row in range(z.shape[0]):\n",
    "    print(\"ROW:\",row,\"COLUMN:\",end=' ')\n",
    "    for col in range(z.shape[1]):\n",
    "        print(z[col][row],end=' ')\n",
    "    print()"
   ]
  },
  {
   "cell_type": "code",
   "execution_count": null,
   "metadata": {},
   "outputs": [],
   "source": []
  }
 ],
 "metadata": {
  "kernelspec": {
   "display_name": "Python 3",
   "language": "python",
   "name": "python3"
  },
  "language_info": {
   "codemirror_mode": {
    "name": "ipython",
    "version": 3
   },
   "file_extension": ".py",
   "mimetype": "text/x-python",
   "name": "python",
   "nbconvert_exporter": "python",
   "pygments_lexer": "ipython3",
   "version": "3.12.1"
  }
 },
 "nbformat": 4,
 "nbformat_minor": 2
}
