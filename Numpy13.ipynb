{
 "cells": [
  {
   "cell_type": "markdown",
   "metadata": {},
   "source": [
    "**Some Numpy Funtions:-**"
   ]
  },
  {
   "cell_type": "code",
   "execution_count": 1,
   "metadata": {},
   "outputs": [],
   "source": [
    "import numpy as np"
   ]
  },
  {
   "cell_type": "code",
   "execution_count": 2,
   "metadata": {},
   "outputs": [
    {
     "name": "stdout",
     "output_type": "stream",
     "text": [
      "Intersection: ['Memory' 'Printer']\n",
      "Union: ['Bluetooth' 'CPU' 'Laptop' 'Memory' 'Pendrive' 'Printer' 'keyboard']\n"
     ]
    }
   ],
   "source": [
    "x=np.array([\"keyboard\" , \"Bluetooth\" , \"Printer\" , \"Pendrive\" , \"Memory\"])\n",
    "y =np.array([\"Laptop\" , \"CPU\" , \"Printer\" , \"Memory\"])\n",
    "\n",
    "print(\"Intersection:\",np.intersect1d(x,y))\n",
    "print(\"Union:\",np.union1d(x,y))"
   ]
  },
  {
   "cell_type": "code",
   "execution_count": 3,
   "metadata": {},
   "outputs": [
    {
     "name": "stdout",
     "output_type": "stream",
     "text": [
      "Set Difference: ['Bluetooth' 'Pendrive' 'keyboard']\n",
      "Set Difference: ['CPU' 'Laptop']\n"
     ]
    }
   ],
   "source": [
    "print(\"Set Difference:\",np.setdiff1d(x,y))\n",
    "print(\"Set Difference:\",np.setdiff1d(y,x))"
   ]
  },
  {
   "cell_type": "code",
   "execution_count": 4,
   "metadata": {},
   "outputs": [
    {
     "name": "stdout",
     "output_type": "stream",
     "text": [
      "IN Output: [False False  True False  True]\n",
      "IN Output: [False False  True  True]\n"
     ]
    }
   ],
   "source": [
    "print(\"IN Output:\",np.in1d(x,y))\n",
    "print(\"IN Output:\",np.in1d(y,x))"
   ]
  }
 ],
 "metadata": {
  "kernelspec": {
   "display_name": "Python 3",
   "language": "python",
   "name": "python3"
  },
  "language_info": {
   "codemirror_mode": {
    "name": "ipython",
    "version": 3
   },
   "file_extension": ".py",
   "mimetype": "text/x-python",
   "name": "python",
   "nbconvert_exporter": "python",
   "pygments_lexer": "ipython3",
   "version": "3.12.1"
  }
 },
 "nbformat": 4,
 "nbformat_minor": 2
}
