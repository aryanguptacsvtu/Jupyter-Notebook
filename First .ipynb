{
 "cells": [
  {
   "cell_type": "markdown",
   "id": "36f43f25-d838-49c3-b917-c8c8b600ef91",
   "metadata": {},
   "source": [
    "## Creating my first Notebook in \"Jupyter\""
   ]
  },
  {
   "cell_type": "code",
   "execution_count": 1,
   "id": "e1b0db4d-3a11-4049-a2c7-5e485377f30d",
   "metadata": {},
   "outputs": [
    {
     "name": "stdout",
     "output_type": "stream",
     "text": [
      "Hello World!!\n"
     ]
    }
   ],
   "source": [
    "print(\"Hello World!!\")"
   ]
  },
  {
   "cell_type": "code",
   "execution_count": 2,
   "id": "8e53be70-4cd3-412c-9640-b0c7905975bf",
   "metadata": {},
   "outputs": [
    {
     "name": "stdout",
     "output_type": "stream",
     "text": [
      "This is my Github Repository.\n"
     ]
    }
   ],
   "source": [
    "print(\"This is my Github Repository.\")"
   ]
  },
  {
   "cell_type": "code",
   "execution_count": null,
   "id": "dc0471eb-6224-44c9-a404-defe90c516bc",
   "metadata": {},
   "outputs": [],
   "source": []
  }
 ],
 "metadata": {
  "kernelspec": {
   "display_name": "Python 3 (ipykernel)",
   "language": "python",
   "name": "python3"
  },
  "language_info": {
   "codemirror_mode": {
    "name": "ipython",
    "version": 3
   },
   "file_extension": ".py",
   "mimetype": "text/x-python",
   "name": "python",
   "nbconvert_exporter": "python",
   "pygments_lexer": "ipython3",
   "version": "3.12.1"
  }
 },
 "nbformat": 4,
 "nbformat_minor": 5
}
