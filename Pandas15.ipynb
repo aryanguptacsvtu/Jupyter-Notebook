{
 "cells": [
  {
   "cell_type": "code",
   "execution_count": 1,
   "metadata": {},
   "outputs": [],
   "source": [
    "import pandas as pd\n",
    "import numpy as np"
   ]
  },
  {
   "cell_type": "code",
   "execution_count": 2,
   "metadata": {},
   "outputs": [
    {
     "name": "stdout",
     "output_type": "stream",
     "text": [
      "      A     B   C     D\n",
      "0  12.0   7.0  20  14.0\n",
      "1   4.0   2.0  16   3.0\n",
      "2   5.0  54.0  11   NaN\n",
      "3   NaN   3.0   3   2.0\n",
      "4   1.0   NaN   8   6.0\n"
     ]
    }
   ],
   "source": [
    "df = pd.DataFrame({\"A\":[12, 4, 5, None, 1],\n",
    "                \"B\":[7, 2, 54, 3, None],\n",
    "                \"C\":[20, 16, 11, 3, 8],\n",
    "                \"D\":[14, 3, None, 2, 6]})\n",
    "\n",
    "print(df)"
   ]
  },
  {
   "cell_type": "code",
   "execution_count": 3,
   "metadata": {},
   "outputs": [
    {
     "name": "stdout",
     "output_type": "stream",
     "text": [
      "      A     B   C     D\n",
      "0  22.0  17.0  30  24.0\n",
      "1  14.0  12.0  26  13.0\n",
      "2  15.0  64.0  21   NaN\n",
      "3   NaN  13.0  13  12.0\n",
      "4  11.0   NaN  18  16.0\n"
     ]
    }
   ],
   "source": [
    "a = df.transform(func = lambda x : x + 10)\n",
    "print(a)"
   ]
  },
  {
   "cell_type": "code",
   "execution_count": 4,
   "metadata": {},
   "outputs": [
    {
     "name": "stdout",
     "output_type": "stream",
     "text": [
      "          A               B               C               D      \n",
      "       sqrt  ceil      sqrt  ceil      sqrt  ceil      sqrt  ceil\n",
      "0  3.464102  12.0  2.645751   7.0  4.472136  20.0  3.741657  14.0\n",
      "1  2.000000   4.0  1.414214   2.0  4.000000  16.0  1.732051   3.0\n",
      "2  2.236068   5.0  7.348469  54.0  3.316625  11.0       NaN   NaN\n",
      "3       NaN   NaN  1.732051   3.0  1.732051   3.0  1.414214   2.0\n",
      "4  1.000000   1.0       NaN   NaN  2.828427   8.0  2.449490   6.0\n"
     ]
    }
   ],
   "source": [
    "b = df.transform(func = ['sqrt','ceil'])\n",
    "print(b)"
   ]
  },
  {
   "cell_type": "code",
   "execution_count": 5,
   "metadata": {},
   "outputs": [
    {
     "name": "stdout",
     "output_type": "stream",
     "text": [
      "   A  B  C\n",
      "0  3  5  7\n",
      "1  2  4  6\n",
      "2  5  8  9\n"
     ]
    }
   ],
   "source": [
    "data = [(3,5,7), (2,4,6),(5,8,9)]\n",
    "df = pd.DataFrame(data, columns = ['A','B','C'])\n",
    "print(df)"
   ]
  },
  {
   "cell_type": "code",
   "execution_count": 6,
   "metadata": {},
   "outputs": [
    {
     "name": "stdout",
     "output_type": "stream",
     "text": [
      "   A   B  C\n",
      "0  3   9  7\n",
      "1  2   8  6\n",
      "2  5  12  9\n"
     ]
    }
   ],
   "source": [
    "# Using apply function in single column\n",
    "def add(x):\n",
    "    return x+4\n",
    "\n",
    "df[\"B\"] = df[\"B\"].apply(add)\n",
    "print(df)"
   ]
  },
  {
   "cell_type": "code",
   "execution_count": 7,
   "metadata": {},
   "outputs": [
    {
     "name": "stdout",
     "output_type": "stream",
     "text": [
      "   A   B   C\n",
      "0  6  12  10\n",
      "1  5  11   9\n",
      "2  8  15  12\n"
     ]
    }
   ],
   "source": [
    "# Using apply() to apply function in all columns\n",
    "def add_3(x):\n",
    "    return x+3\n",
    "\n",
    "df2 = df.apply(add_3)\n",
    "print(df2)"
   ]
  },
  {
   "cell_type": "code",
   "execution_count": 8,
   "metadata": {},
   "outputs": [
    {
     "name": "stdout",
     "output_type": "stream",
     "text": [
      "   A   B  C\n",
      "0  6   8  7\n",
      "1  5   7  6\n",
      "2  8  11  9\n"
     ]
    }
   ],
   "source": [
    "# apply() function on selected list of multiple columns\n",
    "df = pd.DataFrame(data, columns = ['A','B','C'])\n",
    "df[['A','B']] = df[['A','B']].apply(add_3)\n",
    "print(df)"
   ]
  },
  {
   "cell_type": "code",
   "execution_count": 9,
   "metadata": {},
   "outputs": [
    {
     "name": "stdout",
     "output_type": "stream",
     "text": [
      "    A   B   C\n",
      "0  16  18  17\n",
      "1  15  17  16\n",
      "2  18  21  19\n"
     ]
    }
   ],
   "source": [
    "# apply a lambda function to each column\n",
    "df2 = df.apply(lambda x : x + 10)\n",
    "print(df2)"
   ]
  },
  {
   "cell_type": "code",
   "execution_count": 10,
   "metadata": {},
   "outputs": [
    {
     "name": "stdout",
     "output_type": "stream",
     "text": [
      "   A   B  C\n",
      "0  4   8  7\n",
      "1  3   7  6\n",
      "2  6  11  9\n"
     ]
    }
   ],
   "source": [
    "# Using apply() and lambda function\n",
    "df[\"A\"] = df[\"A\"].apply(lambda x: x-2)\n",
    "print(df)"
   ]
  },
  {
   "cell_type": "code",
   "execution_count": 11,
   "metadata": {},
   "outputs": [
    {
     "name": "stdout",
     "output_type": "stream",
     "text": [
      "     A   B  C\n",
      "0  2.0   8  7\n",
      "1  1.5   7  6\n",
      "2  3.0  11  9\n"
     ]
    }
   ],
   "source": [
    "# Using map() to Single Column\n",
    "df['A'] = df['A'].map(lambda A: A/2.)\n",
    "print(df)"
   ]
  },
  {
   "cell_type": "code",
   "execution_count": 12,
   "metadata": {},
   "outputs": [
    {
     "name": "stdout",
     "output_type": "stream",
     "text": [
      "     A   B  C\n",
      "0  6.0   8  7\n",
      "1  4.5   7  6\n",
      "2  9.0  11  9\n"
     ]
    }
   ],
   "source": [
    "# Using DataFrame.map() to Single Column\n",
    "df['A'] = df['A'].map(lambda A: A*3)\n",
    "print(df)"
   ]
  },
  {
   "cell_type": "code",
   "execution_count": 13,
   "metadata": {},
   "outputs": [
    {
     "name": "stdout",
     "output_type": "stream",
     "text": [
      "A    19.5\n",
      "B    26.0\n",
      "C    22.0\n",
      "dtype: float64 \n",
      "\n",
      "0    21.0\n",
      "1    17.5\n",
      "2    29.0\n",
      "dtype: float64\n"
     ]
    }
   ],
   "source": [
    "print(df.apply(np.sum, axis=0),'\\n')\n",
    "print(df.apply(np.sum, axis=1))"
   ]
  },
  {
   "cell_type": "code",
   "execution_count": 14,
   "metadata": {},
   "outputs": [
    {
     "data": {
      "text/html": [
       "<div>\n",
       "<style scoped>\n",
       "    .dataframe tbody tr th:only-of-type {\n",
       "        vertical-align: middle;\n",
       "    }\n",
       "\n",
       "    .dataframe tbody tr th {\n",
       "        vertical-align: top;\n",
       "    }\n",
       "\n",
       "    .dataframe thead th {\n",
       "        text-align: right;\n",
       "    }\n",
       "</style>\n",
       "<table border=\"1\" class=\"dataframe\">\n",
       "  <thead>\n",
       "    <tr style=\"text-align: right;\">\n",
       "      <th></th>\n",
       "      <th>A</th>\n",
       "      <th>B</th>\n",
       "      <th>C</th>\n",
       "    </tr>\n",
       "  </thead>\n",
       "  <tbody>\n",
       "    <tr>\n",
       "      <th>0</th>\n",
       "      <td>2.44949</td>\n",
       "      <td>2.828427</td>\n",
       "      <td>2.645751</td>\n",
       "    </tr>\n",
       "    <tr>\n",
       "      <th>1</th>\n",
       "      <td>2.12132</td>\n",
       "      <td>2.645751</td>\n",
       "      <td>2.449490</td>\n",
       "    </tr>\n",
       "    <tr>\n",
       "      <th>2</th>\n",
       "      <td>3.00000</td>\n",
       "      <td>3.316625</td>\n",
       "      <td>3.000000</td>\n",
       "    </tr>\n",
       "  </tbody>\n",
       "</table>\n",
       "</div>"
      ],
      "text/plain": [
       "         A         B         C\n",
       "0  2.44949  2.828427  2.645751\n",
       "1  2.12132  2.645751  2.449490\n",
       "2  3.00000  3.316625  3.000000"
      ]
     },
     "execution_count": 14,
     "metadata": {},
     "output_type": "execute_result"
    }
   ],
   "source": [
    "df.apply(np.sqrt)"
   ]
  },
  {
   "cell_type": "code",
   "execution_count": 15,
   "metadata": {},
   "outputs": [
    {
     "data": {
      "text/plain": [
       "0    [1, 2]\n",
       "1    [1, 2]\n",
       "2    [1, 2]\n",
       "dtype: object"
      ]
     },
     "execution_count": 15,
     "metadata": {},
     "output_type": "execute_result"
    }
   ],
   "source": [
    "df.apply(lambda x: [1, 2], axis=1)"
   ]
  },
  {
   "cell_type": "code",
   "execution_count": 16,
   "metadata": {},
   "outputs": [
    {
     "name": "stdout",
     "output_type": "stream",
     "text": [
      "    name  age gender       state  num_children  num_pets\n",
      "0   john   23      M  california             2         5\n",
      "1   mary   78      F          dc             1         1\n",
      "2  peter   22      M  california             3         0\n",
      "3   jeff   19      M          dc             3         5\n",
      "4   bill   45      M  california             2         2\n",
      "5   lisa   33      F       texas             1         2\n",
      "6   jose   20      M       texas             4         3\n"
     ]
    }
   ],
   "source": [
    "df = pd.DataFrame({\n",
    "    'name':['john','mary','peter','jeff','bill','lisa','jose'],\n",
    "    'age':[23,78,22,19,45,33,20],\n",
    "    'gender':['M','F','M','M','M','F','M'],\n",
    "    'state':['california','dc','california','dc','california','texas','texas'],\n",
    "    'num_children':[2,1,3,3,2,1,4],\n",
    "    'num_pets':[5,1,0,5,2,2,3]\n",
    "    })\n",
    "\n",
    "print(df)"
   ]
  },
  {
   "cell_type": "code",
   "execution_count": 17,
   "metadata": {},
   "outputs": [
    {
     "name": "stderr",
     "output_type": "stream",
     "text": [
      "C:\\Users\\gupta\\AppData\\Local\\Temp\\ipykernel_20552\\253312598.py:1: FutureWarning: DataFrame.applymap has been deprecated. Use DataFrame.map instead.\n",
      "  df.applymap(lambda x: len(str(x)))\n"
     ]
    },
    {
     "data": {
      "text/html": [
       "<div>\n",
       "<style scoped>\n",
       "    .dataframe tbody tr th:only-of-type {\n",
       "        vertical-align: middle;\n",
       "    }\n",
       "\n",
       "    .dataframe tbody tr th {\n",
       "        vertical-align: top;\n",
       "    }\n",
       "\n",
       "    .dataframe thead th {\n",
       "        text-align: right;\n",
       "    }\n",
       "</style>\n",
       "<table border=\"1\" class=\"dataframe\">\n",
       "  <thead>\n",
       "    <tr style=\"text-align: right;\">\n",
       "      <th></th>\n",
       "      <th>name</th>\n",
       "      <th>age</th>\n",
       "      <th>gender</th>\n",
       "      <th>state</th>\n",
       "      <th>num_children</th>\n",
       "      <th>num_pets</th>\n",
       "    </tr>\n",
       "  </thead>\n",
       "  <tbody>\n",
       "    <tr>\n",
       "      <th>0</th>\n",
       "      <td>4</td>\n",
       "      <td>2</td>\n",
       "      <td>1</td>\n",
       "      <td>10</td>\n",
       "      <td>1</td>\n",
       "      <td>1</td>\n",
       "    </tr>\n",
       "    <tr>\n",
       "      <th>1</th>\n",
       "      <td>4</td>\n",
       "      <td>2</td>\n",
       "      <td>1</td>\n",
       "      <td>2</td>\n",
       "      <td>1</td>\n",
       "      <td>1</td>\n",
       "    </tr>\n",
       "    <tr>\n",
       "      <th>2</th>\n",
       "      <td>5</td>\n",
       "      <td>2</td>\n",
       "      <td>1</td>\n",
       "      <td>10</td>\n",
       "      <td>1</td>\n",
       "      <td>1</td>\n",
       "    </tr>\n",
       "    <tr>\n",
       "      <th>3</th>\n",
       "      <td>4</td>\n",
       "      <td>2</td>\n",
       "      <td>1</td>\n",
       "      <td>2</td>\n",
       "      <td>1</td>\n",
       "      <td>1</td>\n",
       "    </tr>\n",
       "    <tr>\n",
       "      <th>4</th>\n",
       "      <td>4</td>\n",
       "      <td>2</td>\n",
       "      <td>1</td>\n",
       "      <td>10</td>\n",
       "      <td>1</td>\n",
       "      <td>1</td>\n",
       "    </tr>\n",
       "    <tr>\n",
       "      <th>5</th>\n",
       "      <td>4</td>\n",
       "      <td>2</td>\n",
       "      <td>1</td>\n",
       "      <td>5</td>\n",
       "      <td>1</td>\n",
       "      <td>1</td>\n",
       "    </tr>\n",
       "    <tr>\n",
       "      <th>6</th>\n",
       "      <td>4</td>\n",
       "      <td>2</td>\n",
       "      <td>1</td>\n",
       "      <td>5</td>\n",
       "      <td>1</td>\n",
       "      <td>1</td>\n",
       "    </tr>\n",
       "  </tbody>\n",
       "</table>\n",
       "</div>"
      ],
      "text/plain": [
       "   name  age  gender  state  num_children  num_pets\n",
       "0     4    2       1     10             1         1\n",
       "1     4    2       1      2             1         1\n",
       "2     5    2       1     10             1         1\n",
       "3     4    2       1      2             1         1\n",
       "4     4    2       1     10             1         1\n",
       "5     4    2       1      5             1         1\n",
       "6     4    2       1      5             1         1"
      ]
     },
     "execution_count": 17,
     "metadata": {},
     "output_type": "execute_result"
    }
   ],
   "source": [
    "df.applymap(lambda x: len(str(x)))"
   ]
  },
  {
   "cell_type": "code",
   "execution_count": 18,
   "metadata": {},
   "outputs": [
    {
     "name": "stderr",
     "output_type": "stream",
     "text": [
      "C:\\Users\\gupta\\AppData\\Local\\Temp\\ipykernel_20552\\2575078949.py:1: FutureWarning: DataFrame.applymap has been deprecated. Use DataFrame.map instead.\n",
      "  df.applymap(lambda x: str(x) + '_X')\n"
     ]
    },
    {
     "data": {
      "text/html": [
       "<div>\n",
       "<style scoped>\n",
       "    .dataframe tbody tr th:only-of-type {\n",
       "        vertical-align: middle;\n",
       "    }\n",
       "\n",
       "    .dataframe tbody tr th {\n",
       "        vertical-align: top;\n",
       "    }\n",
       "\n",
       "    .dataframe thead th {\n",
       "        text-align: right;\n",
       "    }\n",
       "</style>\n",
       "<table border=\"1\" class=\"dataframe\">\n",
       "  <thead>\n",
       "    <tr style=\"text-align: right;\">\n",
       "      <th></th>\n",
       "      <th>name</th>\n",
       "      <th>age</th>\n",
       "      <th>gender</th>\n",
       "      <th>state</th>\n",
       "      <th>num_children</th>\n",
       "      <th>num_pets</th>\n",
       "    </tr>\n",
       "  </thead>\n",
       "  <tbody>\n",
       "    <tr>\n",
       "      <th>0</th>\n",
       "      <td>john_X</td>\n",
       "      <td>23_X</td>\n",
       "      <td>M_X</td>\n",
       "      <td>california_X</td>\n",
       "      <td>2_X</td>\n",
       "      <td>5_X</td>\n",
       "    </tr>\n",
       "    <tr>\n",
       "      <th>1</th>\n",
       "      <td>mary_X</td>\n",
       "      <td>78_X</td>\n",
       "      <td>F_X</td>\n",
       "      <td>dc_X</td>\n",
       "      <td>1_X</td>\n",
       "      <td>1_X</td>\n",
       "    </tr>\n",
       "    <tr>\n",
       "      <th>2</th>\n",
       "      <td>peter_X</td>\n",
       "      <td>22_X</td>\n",
       "      <td>M_X</td>\n",
       "      <td>california_X</td>\n",
       "      <td>3_X</td>\n",
       "      <td>0_X</td>\n",
       "    </tr>\n",
       "    <tr>\n",
       "      <th>3</th>\n",
       "      <td>jeff_X</td>\n",
       "      <td>19_X</td>\n",
       "      <td>M_X</td>\n",
       "      <td>dc_X</td>\n",
       "      <td>3_X</td>\n",
       "      <td>5_X</td>\n",
       "    </tr>\n",
       "    <tr>\n",
       "      <th>4</th>\n",
       "      <td>bill_X</td>\n",
       "      <td>45_X</td>\n",
       "      <td>M_X</td>\n",
       "      <td>california_X</td>\n",
       "      <td>2_X</td>\n",
       "      <td>2_X</td>\n",
       "    </tr>\n",
       "    <tr>\n",
       "      <th>5</th>\n",
       "      <td>lisa_X</td>\n",
       "      <td>33_X</td>\n",
       "      <td>F_X</td>\n",
       "      <td>texas_X</td>\n",
       "      <td>1_X</td>\n",
       "      <td>2_X</td>\n",
       "    </tr>\n",
       "    <tr>\n",
       "      <th>6</th>\n",
       "      <td>jose_X</td>\n",
       "      <td>20_X</td>\n",
       "      <td>M_X</td>\n",
       "      <td>texas_X</td>\n",
       "      <td>4_X</td>\n",
       "      <td>3_X</td>\n",
       "    </tr>\n",
       "  </tbody>\n",
       "</table>\n",
       "</div>"
      ],
      "text/plain": [
       "      name   age gender         state num_children num_pets\n",
       "0   john_X  23_X    M_X  california_X          2_X      5_X\n",
       "1   mary_X  78_X    F_X          dc_X          1_X      1_X\n",
       "2  peter_X  22_X    M_X  california_X          3_X      0_X\n",
       "3   jeff_X  19_X    M_X          dc_X          3_X      5_X\n",
       "4   bill_X  45_X    M_X  california_X          2_X      2_X\n",
       "5   lisa_X  33_X    F_X       texas_X          1_X      2_X\n",
       "6   jose_X  20_X    M_X       texas_X          4_X      3_X"
      ]
     },
     "execution_count": 18,
     "metadata": {},
     "output_type": "execute_result"
    }
   ],
   "source": [
    "df.applymap(lambda x: str(x) + '_X')"
   ]
  }
 ],
 "metadata": {
  "kernelspec": {
   "display_name": "Python 3",
   "language": "python",
   "name": "python3"
  },
  "language_info": {
   "codemirror_mode": {
    "name": "ipython",
    "version": 3
   },
   "file_extension": ".py",
   "mimetype": "text/x-python",
   "name": "python",
   "nbconvert_exporter": "python",
   "pygments_lexer": "ipython3",
   "version": "3.12.1"
  }
 },
 "nbformat": 4,
 "nbformat_minor": 2
}
